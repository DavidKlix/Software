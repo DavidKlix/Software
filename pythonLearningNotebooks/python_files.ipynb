{
 "cells": [
  {
   "cell_type": "markdown",
   "metadata": {},
   "source": [
    "# Python - Files"
   ]
  },
  {
   "cell_type": "markdown",
   "metadata": {},
   "source": [
    "## So you say you have some data...\n",
    "\n",
    "We are going to go over the basics of reading text based file. I will assume that the format of the file is a number n followed by n pairs of numbers each on their own line.  \n",
    "\n",
    "Example\n",
    "\n",
    "```\n",
    "4\n",
    "1 2.0\n",
    "2 4.0\n",
    "3 8.0\n",
    "4 16.0\n",
    "```"
   ]
  },
  {
   "cell_type": "markdown",
   "metadata": {},
   "source": [
    "### Step 1 - create a reference to the file\n",
    "To open the file for reading, you need to know the name of the file and specify \"r\" (for read) as the mode of use for the file.  If you try to open a file that does not exist or for which you gave an incorrect path, an error will occur."
   ]
  },
  {
   "cell_type": "code",
   "execution_count": 43,
   "metadata": {},
   "outputs": [
    {
     "name": "stdout",
     "output_type": "stream",
     "text": [
      "<_io.TextIOWrapper name='data.txt' mode='r' encoding='UTF-8'>\n"
     ]
    }
   ],
   "source": [
    "# The name of the file is data.txt and it should be a plain text file\n",
    "my_data_file = open(\"data.txt\", \"r\")\n",
    "print(my_data_file)"
   ]
  },
  {
   "cell_type": "markdown",
   "metadata": {},
   "source": [
    "### Step 2 - read data from the file line by line\n",
    "readline() gets a whole line of data as a string\n",
    "You can then use split to break the line into\n",
    "individual strings all stored in a list.  (By default split\n",
    "breaks on spaces, but you can change that.)\n",
    "\n",
    "Once you have a string for each piece of data, you can use int() and float() to convert to a numerical type.  "
   ]
  },
  {
   "cell_type": "code",
   "execution_count": 44,
   "metadata": {},
   "outputs": [
    {
     "name": "stdout",
     "output_type": "stream",
     "text": [
      "4\n",
      "[(1, 2.0), (2, 4.0), (3, 8.0), (4, 1.0)]\n"
     ]
    }
   ],
   "source": [
    "my_data_file = open(\"data.txt\", \"r\")\n",
    "\n",
    "# The result is going to be a list of pairs \n",
    "# Start it empty\n",
    "result = []\n",
    "\n",
    "token = my_data_file.readline()\n",
    "#Convert the string to an integer value\n",
    "count = int(token)\n",
    "print(count)\n",
    "\n",
    "for i in range(0,count) :\n",
    "    # read each line\n",
    "    line = my_data_file.readline()\n",
    "    \n",
    "    # split on space into a list of strings\n",
    "    string_data = line.split()\n",
    "    \n",
    "    # get each part of the pair and add to the list\n",
    "    first = int(string_data[0])\n",
    "    second = float(string_data[1])\n",
    "    result.append( (first,second) )\n",
    "    \n",
    "print(result)\n",
    "    "
   ]
  },
  {
   "cell_type": "markdown",
   "metadata": {},
   "source": [
    "### Step 3 - close the file\n",
    "You should always close your files after you are done with them.  Close guarantees that any buffers are flushed and the file is available for use by others."
   ]
  },
  {
   "cell_type": "code",
   "execution_count": 39,
   "metadata": {},
   "outputs": [],
   "source": [
    "my_data_file.close()"
   ]
  },
  {
   "cell_type": "markdown",
   "metadata": {},
   "source": [
    "## Writing to a file\n",
    "Its the same three step process.  \n",
    "1. Open the file for writing (\"w\") or appending (\"a\").\n",
    "2. Use the write() function to write to the file\n",
    "3. Close the file.  I can not stress how important it is that you close the file. If you don't, martians will invade and steal all of our martinis. \n",
    "\n",
    "Write requires that you give it a string.  If you want to write a line, you need to add a newline."
   ]
  },
  {
   "cell_type": "code",
   "execution_count": 40,
   "metadata": {},
   "outputs": [],
   "source": [
    "file_out = open(\"data.txt\", \"w\")\n",
    "\n",
    "# Write the first value on its own line\n",
    "file_out.write(\"4\\n\")\n",
    "\n",
    "# Write the pair \n",
    "file_out.write(\"1\")\n",
    "file_out.write(\" 2.0\\n\")\n",
    "\n",
    "# Write the next pair\n",
    "file_out.write(\"2 4.0\\n\")\n",
    "\n",
    "# Write two lines worth\n",
    "file_out.write(\"3 8.0\\n4 1.0\\n\")\n",
    "\n",
    "# Close it up\n",
    "file_out.close()\n"
   ]
  },
  {
   "cell_type": "markdown",
   "metadata": {},
   "source": [
    "## Reading until you hit the end of the file.\n",
    "\n",
    "Lets say that we have a list of words. There can be multiple words on a line and they are all separated by spaces.  \n",
    "\n",
    "Example\n",
    "\n",
    "```\n",
    "hay hey\n",
    "go              chess   checkers\n",
    "the previous line used tabs\n",
    "\n",
    "that was an empty line\n",
    "a e i o u y\n",
    "\n",
    "10 20 30\n",
    "still strings\n",
    "```"
   ]
  },
  {
   "cell_type": "code",
   "execution_count": 41,
   "metadata": {
    "scrolled": true
   },
   "outputs": [
    {
     "name": "stdout",
     "output_type": "stream",
     "text": [
      "['hay', 'hey', 'go', 'chess', 'checkers', 'the', 'previous', 'line', 'used', 'tabs', 'that', 'was', 'an', 'empty', 'line', 'a', 'e', 'i', 'o', 'u', 'y', '10', '20', '30', 'still', 'strings']\n"
     ]
    }
   ],
   "source": [
    "my_data_file = open(\"words.txt\", \"r\")\n",
    "\n",
    "# The result is going to be a list of words \n",
    "# Start it empty\n",
    "result = []\n",
    "\n",
    "line = my_data_file.readline()\n",
    "# We are clever here... any non-empty result will be\n",
    "# treated as true (All the lines in the file except possibly the last\n",
    "# end in a newline character.)\n",
    "while line :\n",
    "    # split on white space into a list of strings\n",
    "    string_data = line.split()\n",
    "    \n",
    "    # add each one to the result\n",
    "    for word in string_data :\n",
    "        result.append(word)\n",
    "    # get the next line\n",
    "    line = my_data_file.readline()\n",
    "    \n",
    "print(result)"
   ]
  },
  {
   "cell_type": "markdown",
   "metadata": {},
   "source": [
    "## An  alternative\n",
    "We can use a for loop to get every line in the file as well.  It isn't as clear that it is processing the file line by line, but it reads cleaner than the while loop."
   ]
  },
  {
   "cell_type": "code",
   "execution_count": 45,
   "metadata": {},
   "outputs": [
    {
     "name": "stdout",
     "output_type": "stream",
     "text": [
      "['hay', 'hey', 'go', 'chess', 'checkers', 'the', 'previous', 'line', 'used', 'tabs', 'that', 'was', 'an', 'empty', 'line', 'a', 'e', 'i', 'o', 'u', 'y', '10', '20', '30', 'still', 'strings']\n"
     ]
    }
   ],
   "source": [
    "my_data_file = open(\"words.txt\", \"r\")\n",
    "\n",
    "# The result is going to be a list of words \n",
    "# Start it empty\n",
    "result = []\n",
    "\n",
    "# Iterate using a for loop\n",
    "for line in my_data_file :\n",
    "    # add each word to the result\n",
    "    for word in line.split() :\n",
    "        result.append(word)\n",
    "my_data_file.close()\n",
    "    \n",
    "print(result)"
   ]
  },
  {
   "cell_type": "markdown",
   "metadata": {},
   "source": [
    "### Using with\n",
    "If you are going to read or write your file all at once, there is a convenient way to do so \n",
    "```python\n",
    "    with open(file_name) as file_reference :\n",
    "        #code to process the file\n",
    "```\n",
    "The big advantage is that once you leave the with block, the file is guaranteed to be closed.  This will happen even if an error occurs."
   ]
  },
  {
   "cell_type": "code",
   "execution_count": 2,
   "metadata": {},
   "outputs": [
    {
     "name": "stdout",
     "output_type": "stream",
     "text": [
      "['hay', 'hey', 'go', 'chess', 'checkers', 'the', 'previous', 'line', 'used', 'tabs', 'that', 'was', 'an', 'empty', 'line', 'a', 'e', 'i', 'o', 'u', 'y', '10', '20', '30', 'still', 'strings']\n"
     ]
    }
   ],
   "source": [
    "# The result is going to be a list of words \n",
    "# Start it empty\n",
    "result = []\n",
    "\n",
    "with open(\"words.txt\", \"r\") as my_data_file :\n",
    "    for line in my_data_file :\n",
    "        # add each word to the result\n",
    "        for word in line.split() :\n",
    "            result.append(word)\n",
    "    \n",
    "print(result)"
   ]
  }
 ],
 "metadata": {
  "kernelspec": {
   "display_name": "Python 3",
   "language": "python",
   "name": "python3"
  },
  "language_info": {
   "codemirror_mode": {
    "name": "ipython",
    "version": 3
   },
   "file_extension": ".py",
   "mimetype": "text/x-python",
   "name": "python",
   "nbconvert_exporter": "python",
   "pygments_lexer": "ipython3",
   "version": "3.7.1"
  }
 },
 "nbformat": 4,
 "nbformat_minor": 2
}
