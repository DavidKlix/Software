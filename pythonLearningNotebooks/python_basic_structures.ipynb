{
 "cells": [
  {
   "cell_type": "markdown",
   "metadata": {},
   "source": [
    "# Built In Python Data Structures"
   ]
  },
  {
   "cell_type": "markdown",
   "metadata": {},
   "source": [
    "## List\n",
    "\n",
    "Python lists are an implementation of your bog standard ArrayList (or vector, if you're from C++ land).  It is a data structure that stores elements in _contiguous_ memory (elements are located next to each other in memory).  This leads to the following operating characteristics:\n",
    "\n",
    "| Get/Set | Search | Append/Remove End | Add/Remove at Beginning or Middle| \n",
    "| :---: | :---: | :---: | :---: |\n",
    "| O(1) | O(n) | O(1) | O(n) |\n",
    "\n",
    "Lists are created using the square brackets `[]` with a comma separated list of elements in between (there are other cool ways as well that we may discuss later). Individual elements can be accessed through the _index_ of the element.\n",
    "\n",
    "_Note:_ Python lists are zero indexed; the first element is at index zero, and the last element is at len(list) - 1.  Unlike languages like Java or C++ the elements in the list do NOT need to be the same type\n",
    "\n",
    "_Other note:_ Python lists can handle _negative_ indexing; an index of -1 will print the last element, -2 will print the second to last element, etc.\n",
    "\n",
    "_Other other note:_ Python lists are not hashable (this will come into play later!)"
   ]
  },
  {
   "cell_type": "code",
   "execution_count": 1,
   "metadata": {},
   "outputs": [
    {
     "name": "stdout",
     "output_type": "stream",
     "text": [
      "5\n",
      "3\n",
      "[1, 3, 5, 7]\n",
      "[2, 3, 5, 7]\n",
      "7\n"
     ]
    }
   ],
   "source": [
    "my_list = [1, 3, 5, 7]\n",
    "# lists are zero indexed, and can be accessed like you would in most other languages\n",
    "print(my_list[2])\n",
    "print(my_list[1])\n",
    "print(my_list)\n",
    "# List access and mutation use the same operator\n",
    "my_list[0] = 2\n",
    "print(my_list)\n",
    "print(my_list[-1])"
   ]
  },
  {
   "cell_type": "markdown",
   "metadata": {},
   "source": [
    "**Try it!** In the cell below, create a list with 5 elements, then calculate the sum of the elements (and store the sum in another variable).  "
   ]
  },
  {
   "cell_type": "code",
   "execution_count": 5,
   "metadata": {},
   "outputs": [
    {
     "name": "stdout",
     "output_type": "stream",
     "text": [
      "15\n"
     ]
    }
   ],
   "source": [
    "nick_list = [1,2,3,4,5]\n",
    "sum = 0\n",
    "for i in range(5):\n",
    "    sum += nick_list[i]\n",
    "print(sum)\n"
   ]
  },
  {
   "cell_type": "markdown",
   "metadata": {},
   "source": [
    "### Selected list methods and functions\n",
    "\n",
    "For each of these, assume my_list is a Python list.  Note that a parameter in square brackets `[]` means that it is optional, _not_ that you should put the parameter in brackets\n",
    "\n",
    "* `len(my_list)`: returns the number of elements in the list\n",
    "* `my_list.append(e)`: adds the element to the end of the list\n",
    "* `my_list.extend(another_list)`: appends all elements in `another_list` to the end of `my_list`\n",
    "* `my_list.remove(e)`: remove the first item from the list whose value is x.  Errors if x is not in the list\n",
    "* `my_list.pop([i])`: Removes the item at index `i` and return it.  If `i` is not specified, then remove and return the last element.\n",
    "\n",
    "and so many more!  Check out https://docs.python.org/3/tutorial/datastructures.html#more-on-lists to see a more complete list.\n",
    "\n",
    "**Try it!** In the cell below, There are two lists defined; complete the following tasks:\n",
    "\n",
    "* Print the length of `list1`\n",
    "* Add a string to the end of `list2`\n",
    "* Print the length of `list2`\n",
    "* Add all elements in `list2` to the end of `list1`\n",
    "* Remove an element from one of the lists and print it\n"
   ]
  },
  {
   "cell_type": "code",
   "execution_count": 6,
   "metadata": {},
   "outputs": [
    {
     "name": "stdout",
     "output_type": "stream",
     "text": [
      "6\n",
      "7\n"
     ]
    }
   ],
   "source": [
    "list1 = [1, 3, 5, 'a', 'b', 'c']\n",
    "list2 = ['q', 'w', 'e', 2, 4, 6]\n",
    "\n",
    "print(len(list1))\n",
    "list2.append('d')\n",
    "print(len(list2))"
   ]
  },
  {
   "cell_type": "markdown",
   "metadata": {},
   "source": [
    "### List Iteration\n",
    "\n",
    "Lists in Python are _iterable_; that is you may walk through all the elements of the list and do something to them.  The basic `for` loop in python takes the form:\n",
    "\n",
    "```python\n",
    "for var in iterable:\n",
    "    # do something to var\n",
    "    print(var)\n",
    "```\n",
    "\n",
    "During each iteration of the loop, `var` will contain the value of the next item in the list"
   ]
  },
  {
   "cell_type": "code",
   "execution_count": 3,
   "metadata": {},
   "outputs": [
    {
     "name": "stdout",
     "output_type": "stream",
     "text": [
      "1\n",
      "3\n",
      "5\n",
      "7\n",
      "9\n",
      "--- 2\n",
      "--- 6\n",
      "--- 10\n",
      "--- 14\n",
      "--- 18\n"
     ]
    }
   ],
   "source": [
    "list1 = [1, 3, 5, 7, 9]\n",
    "for v in list1:\n",
    "    print(v)\n",
    "\n",
    "for v in list1:\n",
    "    print('---', 2*v)"
   ]
  },
  {
   "cell_type": "markdown",
   "metadata": {},
   "source": [
    "It is interesting that when you iterate through the list, you cannot change the list through the variable, that is:"
   ]
  },
  {
   "cell_type": "code",
   "execution_count": 10,
   "metadata": {},
   "outputs": [
    {
     "name": "stdout",
     "output_type": "stream",
     "text": [
      "2\n",
      "4\n",
      "6\n",
      "8\n",
      "[1, 2, 3, 4]\n"
     ]
    }
   ],
   "source": [
    "list1 = [1, 2, 3, 4]\n",
    "for v in list1:\n",
    "    v *= 2\n",
    "    print(v)\n",
    "print(list1)"
   ]
  },
  {
   "cell_type": "markdown",
   "metadata": {},
   "source": [
    "If you want to modify elements of the list in the loop, you must use the index of the list."
   ]
  },
  {
   "cell_type": "code",
   "execution_count": 4,
   "metadata": {},
   "outputs": [
    {
     "name": "stdout",
     "output_type": "stream",
     "text": [
      "[2, 4, 6, 8]\n"
     ]
    }
   ],
   "source": [
    "list1 = [1, 2, 3, 4]\n",
    "for i in range(len(list1)):\n",
    "    list1[i] *= 2\n",
    "print(list1)"
   ]
  },
  {
   "cell_type": "markdown",
   "metadata": {},
   "source": [
    "Note that `range` does not return a list, but instead an object that behaves very similarly to a list.  If necessary you can convert a `range` to a `list` using the `list` constructor: `list(range(5))` returns the list `[0, 1, 2, 3, 4]`\n",
    "**Try it!** Perform the sum exercise above (create a list with many numbers, and calculate the sum) but use a for loop (if you had not before)"
   ]
  },
  {
   "cell_type": "code",
   "execution_count": null,
   "metadata": {},
   "outputs": [],
   "source": []
  },
  {
   "cell_type": "markdown",
   "metadata": {},
   "source": [
    "### Searching in lists\n",
    "\n",
    "Python allows you to see whether a value exists easily in a list by using the `in` operator:"
   ]
  },
  {
   "cell_type": "code",
   "execution_count": 22,
   "metadata": {},
   "outputs": [
    {
     "name": "stdout",
     "output_type": "stream",
     "text": [
      "False\n",
      "True\n"
     ]
    }
   ],
   "source": [
    "my_list = [2, 4, 6, 8, 10]\n",
    "print(3 in my_list)\n",
    "print(4 in my_list)"
   ]
  },
  {
   "cell_type": "markdown",
   "metadata": {},
   "source": [
    "### Sorting lists\n",
    "\n",
    "Python has a built in implementation of Timsort that can be used on lists of any objects that are directly comparable.  There are two ways to invoke the built in sort on the list `l`:\n",
    "\n",
    "* `sorted(l)` returns a sorted list containing the same data as `l`.  The original list is unchanged\n",
    "* `l.sort()` sorts `l` in place and does not return anything\n",
    "\n",
    "Both of these functions accept a `key` parameter that allow you to specify what part of a list of complex objects should be used for sorting.  See https://docs.python.org/3/howto/sorting.html#key-functions for more information.  We will discuss lambda expressions in a later tutorial.\n",
    "\n",
    "**Try it!** Create a list and sort it.  Print both the unsorted list and the sorted list."
   ]
  },
  {
   "cell_type": "code",
   "execution_count": null,
   "metadata": {},
   "outputs": [],
   "source": []
  },
  {
   "cell_type": "markdown",
   "metadata": {},
   "source": [
    "### List Slicing\n",
    "\n",
    "Python lists have an incredibly powerful and flexible indexing mechanism that allows you to **slice** them (and get views of your data).  A python slice takes the form:\n",
    "\n",
    "```python\n",
    "my_list[start:stop:stride] \n",
    "# gets the list from index start (inclusive) to \n",
    "# stop(exclusive), adding stride to the current index\n",
    "# every time\n",
    "```\n",
    "\n",
    "If you do not wish to specify a stride, you can omit the last colon (it defaults to 1).\n",
    "\n",
    "If you do not specify the start value, it defaults to 0.  If you do not specify the stop value, it defaults to `len(my_list)`\n",
    "\n",
    "Python list slicing is best demonstrated with some examples:"
   ]
  },
  {
   "cell_type": "code",
   "execution_count": 16,
   "metadata": {},
   "outputs": [
    {
     "name": "stdout",
     "output_type": "stream",
     "text": [
      "[0, 1, 2, 3, 4, 5, 6, 7, 8, 9, 10, 11, 12, 13, 14, 15, 16, 17, 18, 19]\n",
      "[5, 6, 7, 8, 9]\n",
      "[1, 3, 5, 7, 9, 11, 13, 15, 17, 19]\n",
      "[0, 2, 4, 6, 8, 10, 12, 14, 16, 18]\n",
      "[1, 4, 7, 10, 13]\n",
      "[19, 18, 17, 16, 15, 14, 13, 12, 11, 10, 9, 8, 7, 6, 5, 4, 3, 2, 1, 0]\n"
     ]
    }
   ],
   "source": [
    "my_list = list(range(20)) # quick and dirty list with values\n",
    "print(my_list)\n",
    "print(my_list[5:10])\n",
    "print(my_list[1::2]) # start at index 1, go to end, and skip every other\n",
    "print(my_list[::2]) # start at index 0, go to end, skip every other\n",
    "print(my_list[1:15:3])\n",
    "print(my_list[::-1]) # reverse the list!  (walk through in reverse)"
   ]
  },
  {
   "cell_type": "markdown",
   "metadata": {},
   "source": [
    "Note that strings (which are technically just lists of characters) can be sliced the same way."
   ]
  },
  {
   "cell_type": "markdown",
   "metadata": {},
   "source": [
    "## Tuple\n",
    "\n",
    "Tuples are similar to lists, but they have one important feature: they are _immutable_, which means they are _hashable_.  Tuples are created and used similarly to lists, but using parenthesis instead of square brackets.  Their indexing operations remain the same."
   ]
  },
  {
   "cell_type": "code",
   "execution_count": 28,
   "metadata": {},
   "outputs": [
    {
     "name": "stdout",
     "output_type": "stream",
     "text": [
      "(1, 2, 3)\n",
      "(1, 3)\n",
      "{(1, 2, 3): 'this is nifty!'}\n"
     ]
    }
   ],
   "source": [
    "my_tuple = (1, 2, 3)\n",
    "print(my_tuple)\n",
    "print(my_tuple[::2])\n",
    "my_dict = dict()\n",
    "# you cannot do this with a list!\n",
    "my_dict[my_tuple] = 'this is nifty!'\n",
    "print(my_dict)"
   ]
  },
  {
   "cell_type": "markdown",
   "metadata": {},
   "source": [
    "Because tuples are directly supported by Python, they can be used to return multiple values from functions:"
   ]
  },
  {
   "cell_type": "code",
   "execution_count": 6,
   "metadata": {},
   "outputs": [
    {
     "name": "stdout",
     "output_type": "stream",
     "text": [
      "(1, 2, 3)\n",
      "1 - 2 - 3\n"
     ]
    }
   ],
   "source": [
    "def foo():\n",
    "    return 1, 2, 3\n",
    "\n",
    "print(foo())\n",
    "# we can directly unpack the return tuples into variables\n",
    "a, b, c = foo()\n",
    "print(a, '-', b, '-', c)\n",
    "# Cannot unpack fewer or more values than specified, expecting 2, getting 3 from foo\n",
    "# _,c2 = foo()"
   ]
  },
  {
   "cell_type": "markdown",
   "metadata": {},
   "source": [
    "We can also exploit this unpacking behavior of tuples to perform a one liner swap function, which is just really cool:"
   ]
  },
  {
   "cell_type": "code",
   "execution_count": 7,
   "metadata": {},
   "outputs": [
    {
     "name": "stdout",
     "output_type": "stream",
     "text": [
      "3 2\n",
      "2 3\n"
     ]
    }
   ],
   "source": [
    "a = 3\n",
    "b = 2\n",
    "print(a, b)\n",
    "# swap is a oneliner!\n",
    "a, b = b, a\n",
    "print(a, b)"
   ]
  },
  {
   "cell_type": "markdown",
   "metadata": {},
   "source": [
    "### _A Handy Trick\n",
    "Suppose that you have two related lists of the same size and you want to iterate over pairs of values from both lists.  You could loop over an index and get each of values that you need, or you could do a more pythonish thing.  Use the `zip` function.  The zip function takes two lists and creates a new list of tuples created in a pairwise fashion.  For example, if I have lists [1, 3, 5] and ['a', 'b', 'c'] zip would produce [(1,'a'), (3, 'b'), (5, 'c')]. Now you con iterate over the pairs in the list or even pull out the pieces of the pair.\n",
    "\n",
    "If the lists are of uneven lengths, tuples are created until the shortest list is exhausted."
   ]
  },
  {
   "cell_type": "code",
   "execution_count": 8,
   "metadata": {},
   "outputs": [
    {
     "name": "stdout",
     "output_type": "stream",
     "text": [
      "(1, 'a')\n",
      "(3, 'b')\n",
      "(5, 'c')\n",
      "1 a\n",
      "3 b\n",
      "5 c\n",
      "(1, 'a', 'a')\n",
      "(3, 'b', 'b')\n",
      "(5, 'c', 'c')\n"
     ]
    }
   ],
   "source": [
    "list1 = [1, 3, 5]\n",
    "list2 = ['a', 'b', 'c']\n",
    "\n",
    "# process each pair\n",
    "for pair in zip(list1, list2) :\n",
    "    print(pair)\n",
    "    \n",
    "# deconstruct the pairs\n",
    "for first,second in zip(list1, list2) :\n",
    "    print(first, second)\n",
    "    \n",
    "# Make a list of triples\n",
    "for triple in zip(list1, list2, list2) :\n",
    "    print(triple)\n",
    "\n"
   ]
  },
  {
   "cell_type": "markdown",
   "metadata": {},
   "source": [
    "## Dictionary\n",
    "\n",
    "Dictionaries (or `dict`s) are the Python equivalent of Java's `HashMap`; that is they store key/value pairs, allow searching based on keys, and are generally downright awesome.  Keys and values do not need to be the same (or consistent) types.  However keys must be _hashable_ (specifically, the objects that are the keys must have the `__hash__()` and `__eq__()` methods defined, though that is an implementation detail we don't necessarily need).  The fact that it is an implementation of a `HashMap` means that it has the following characteristics:\n",
    "\n",
    "| Get/Set | Search (for key in dict) | Add | Remove| \n",
    "| :---: | :---: | :---: | :---: |\n",
    "| O(1) | O(1) | O(1) | O(1) |\n",
    "\n",
    "Searching for values is O(n), and probably should be avoided unless you have a very good reason to do so (as values are not required to be unique, but keys must be).\n",
    "\n",
    "Dictionaries can be created using curly brackets `{}`, with a comma separated list of `key:value` pairs.  As with lists, dictionaries can be \"indexed\" using the key values.  Additionally, keys that have not been used yet may be assigned to (though not read from)."
   ]
  },
  {
   "cell_type": "code",
   "execution_count": 26,
   "metadata": {},
   "outputs": [
    {
     "name": "stdout",
     "output_type": "stream",
     "text": [
      "bob\n",
      "asdf\n",
      "33\n",
      "[90, 100, 5]\n",
      "{'name': 'bob', 'age': 33, 1: 'asdf', 'grades': [90, 100, 5]}\n"
     ]
    }
   ],
   "source": [
    "my_dict = {'name': 'bob', 'age': 33, 1: 'asdf'}\n",
    "print(my_dict['name'])\n",
    "print(my_dict[1])\n",
    "print(my_dict['age'])\n",
    "# print(my_dict['height']) # this throws a KeyError\n",
    "# Check it out! values can be a list!\n",
    "my_dict['grades'] = [90, 100, 5]\n",
    "print(my_dict['grades'])\n",
    "# Lists are NOT HASHABLE, so they cannot be the key\n",
    "print(my_dict)\n"
   ]
  },
  {
   "cell_type": "markdown",
   "metadata": {},
   "source": [
    "**Try it!**: Create a dictionary that contains information about you: your name, your age, your height, and a list of your favorite things.  Print the data in your dictionary."
   ]
  },
  {
   "cell_type": "code",
   "execution_count": 14,
   "metadata": {},
   "outputs": [
    {
     "name": "stdout",
     "output_type": "stream",
     "text": [
      "['pc', 'food', 'pets', 'money']\n"
     ]
    }
   ],
   "source": [
    "nick_dict = {\"age\":20, \"name\":\"nick\", \"height\": 6, 'favorites': [\"pc\",\"food\", \"pets\",\"money\"]}\n",
    "print(nick_dict[\"favorites\"])"
   ]
  },
  {
   "cell_type": "markdown",
   "metadata": {},
   "source": [
    "Dictionaries have an interesting feature; they have a consistent mapping to the Objects defined in the JSON data serialization format.  One way that we can get information from databases or web APIS is through JSON; this makes it a flexible way for us to access and manipulate data from these kinds of sources.\n",
    "\n",
    "### Selected dictionary methods and functions\n",
    "\n",
    "For each of these assume `my_dict` is a Python Dictionary\n",
    "\n",
    "* `len(my_dict)`: Returns the number of key/value pairs in the dictionary\n",
    "* `my_dict.keys()`: Returns a view of the dictionary's keys\n",
    "* `my_dict.values()`: Returns a view of the dictionary's values\n",
    "* `my_dict.get(key[,default])`: Returns the value associated with the key.  If you specify the optional `default`, will return that if the key does not exist in the dictionary; otherwise if the key does not exist in the dictionary it will raise a `KeyError`\n",
    "* `my_dict.items()` returns an iterable containing tuples representing (key, value) pairs.\n",
    "Check out https://docs.python.org/3/library/stdtypes.html#typesmapping for a more complete list.\n",
    "\n",
    "### Iteration through dictionaries\n",
    "\n",
    "Dictionaries are iterable; when using a loop to walk through the elements of a dictionary the variable will contain each **key** in the dictionary:"
   ]
  },
  {
   "cell_type": "code",
   "execution_count": 10,
   "metadata": {},
   "outputs": [
    {
     "name": "stdout",
     "output_type": "stream",
     "text": [
      "name bob\n",
      "age 33\n",
      "1 asdf\n",
      "--another way!\n",
      "name bob\n",
      "age 33\n",
      "1 asdf\n"
     ]
    }
   ],
   "source": [
    "my_dict = {'name': 'bob', 'age': 33, 1: 'asdf'}\n",
    "for key in my_dict:\n",
    "    print(key, my_dict[key])\n",
    "print ('--another way!')\n",
    "for key, value in my_dict.items():\n",
    "    print(key, value)"
   ]
  },
  {
   "cell_type": "markdown",
   "metadata": {},
   "source": [
    "## Sets\n",
    "\n",
    "Python sets implementations of Java's `HashSet`, so they can only store elements that are hashable.  See https://docs.python.org/3/library/stdtypes.html#set-types-set-frozenset for more information on sets.\n",
    "\n",
    "Note that sets are mutable, and as such are not hashable; if you want to use a `set` as a key in a dictionary (or have a set of sets) you should use the immutable and hashable `frozenset` class that Python provides for you."
   ]
  },
  {
   "cell_type": "code",
   "execution_count": 11,
   "metadata": {},
   "outputs": [
    {
     "name": "stdout",
     "output_type": "stream",
     "text": [
      "True\n",
      "False\n",
      "True\n"
     ]
    }
   ],
   "source": [
    "my_set = set([1, 2, 3, 4, 5])\n",
    "print(5 in my_set)\n",
    "print(10 in my_set)\n",
    "print(10 not in my_set)"
   ]
  },
  {
   "cell_type": "markdown",
   "metadata": {},
   "source": [
    "### Set Operations\n",
    "\n",
    "Python sets directly support the standard mathematical set operations, including:\n",
    "\n",
    "* Subset (`a<=b`) and Proper Subset (`a<b`): return `True` if every element in `a` is in `b`.  Proper Subset also checks to see that `a!=b`\n",
    "* Super set (`a>=b`) and Proper Superset (`a>b`): same as `b<=a` and `b<a` respectively\n",
    "* Union (`a|b`): Returns a set containing all elements in `a` and `b`\n",
    "* Difference (`a-b`): Returns a set containing all elements in `a` that are not in `b`\n",
    "* Symmetric Difference (`a^b`): Returns a set containing all elements in `a` or `b` that are not in both\n",
    "* Intersection (`a&b`): Returns a set of all elements that are in both `a` and `b`\n",
    "\n",
    "Additionally, `set` objects support in place modification of the calling side using operators: `|=, -=, ^=, %=`.\n",
    "\n",
    "There are member method names for each of these functions as well (see the documentation for more information).\n",
    "\n",
    "It can be helpful to see the set operations is a venn diagram (`a|b`) is the all elements `a` and `b` including the overlap.  \n",
    "\n",
    "![Set Operations](imgs/setops.png)"
   ]
  },
  {
   "cell_type": "code",
   "execution_count": 14,
   "metadata": {},
   "outputs": [
    {
     "name": "stdout",
     "output_type": "stream",
     "text": [
      "{0, 1, 2, 3, 4} {2, 3, 4, 5, 6}\n",
      "Proper Subset False\n",
      "Union {0, 1, 2, 3, 4, 5, 6}\n",
      "Difference {0, 1}\n",
      "Symmetric Difference {0, 1, 5, 6}\n",
      "Intersection {2, 3, 4}\n"
     ]
    }
   ],
   "source": [
    "seta = set(range(5))\n",
    "setb = set(range(2,7))\n",
    "print(seta, setb)\n",
    "print ('Proper Subset', seta < setb)\n",
    "print ('Union', seta | setb)\n",
    "print ('Difference', seta - setb)\n",
    "print ('Symmetric Difference', seta ^ setb)\n",
    "print ('Intersection', seta & setb)\n"
   ]
  },
  {
   "cell_type": "markdown",
   "metadata": {},
   "source": [
    "**Python data structures tutorial:** https://docs.python.org/3/tutorial/datastructures.html"
   ]
  }
 ],
 "metadata": {
  "kernelspec": {
   "display_name": "Python 3 (Spyder)",
   "language": "python3",
   "name": "python3"
  },
  "language_info": {
   "codemirror_mode": {
    "name": "ipython",
    "version": 3
   },
   "file_extension": ".py",
   "mimetype": "text/x-python",
   "name": "python",
   "nbconvert_exporter": "python",
   "pygments_lexer": "ipython3",
   "version": "3.7.1"
  }
 },
 "nbformat": 4,
 "nbformat_minor": 2
}
