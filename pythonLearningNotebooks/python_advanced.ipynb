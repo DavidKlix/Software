{
 "cells": [
  {
   "cell_type": "markdown",
   "metadata": {},
   "source": [
    "# Advanced Python"
   ]
  },
  {
   "cell_type": "markdown",
   "metadata": {},
   "source": [
    "## Comprehensions\n",
    "\n",
    "### List Comprehensions\n",
    "\n",
    "Python is an interpreted language, which means that every time you run a Python program the interpreter reads the next command in the file and evaluates it.  This is a slow operation (re-interpreting lines that have been read once is extra time), and is one disadvantage Python has over compiled languages (like the C's).\n",
    "\n",
    "**However** the reference implementation of Python (also called CPython) is implemented in C, which means that any time you call a built in Python function, your code will run at the speed of C (both C as the programming language, and c as the constant that stands for the speed of light in E=mc^2). As such, the fewer lines(or statements) of code you can write in Python, the faster your code will run.  Consider a situation where you want to create a list that contains the squares of the numbers from 1 to 10.  The slowest (and arguably most readable) way to do this would be:"
   ]
  },
  {
   "cell_type": "code",
   "execution_count": 1,
   "metadata": {},
   "outputs": [
    {
     "name": "stdout",
     "output_type": "stream",
     "text": [
      "[1, 4, 9, 16, 25, 36, 49, 64, 81, 100]\n"
     ]
    }
   ],
   "source": [
    "squares = []\n",
    "for i in range(1,11):\n",
    "    squares.append(i*i)\n",
    "print(squares)"
   ]
  },
  {
   "cell_type": "markdown",
   "metadata": {},
   "source": [
    "Earlier, we investigated ways we could do this using the `map` function with a lambda expression:"
   ]
  },
  {
   "cell_type": "code",
   "execution_count": 2,
   "metadata": {},
   "outputs": [
    {
     "name": "stdout",
     "output_type": "stream",
     "text": [
      "[1, 4, 9, 16, 25, 36, 49, 64, 81, 100]\n"
     ]
    }
   ],
   "source": [
    "squares = list(map(lambda x: x * x, range(1,11)))\n",
    "print(squares)"
   ]
  },
  {
   "cell_type": "markdown",
   "metadata": {},
   "source": [
    "This is a cooler way to do this, but is a little bit harder to read. We have another option; Python has a construct called a _list comprehension_ that lets us create a list of values in one line.  Consider the following code, and ask yourself what is happening:"
   ]
  },
  {
   "cell_type": "code",
   "execution_count": 3,
   "metadata": {},
   "outputs": [
    {
     "name": "stdout",
     "output_type": "stream",
     "text": [
      "[1, 4, 9, 16, 25, 36, 49, 64, 81, 100]\n"
     ]
    }
   ],
   "source": [
    "squares = [x * x for x in range(1,11)]\n",
    "print(squares)"
   ]
  },
  {
   "cell_type": "markdown",
   "metadata": {},
   "source": [
    "We obtain the same result, and it reads much more cleanly than the above example with the list and map functions: create a list of the square of each value in the range 1, 11.  In general, a simple list comprehension can take the form:\n",
    "\n",
    "```python\n",
    "[function(var) for var in iterable]\n",
    "```\n",
    "\n",
    "#### Try it!\n",
    "\n",
    "Try to write a list comprehension that contains the string representation of the numbers from 1 to 20"
   ]
  },
  {
   "cell_type": "code",
   "execution_count": null,
   "metadata": {},
   "outputs": [],
   "source": []
  },
  {
   "cell_type": "markdown",
   "metadata": {},
   "source": [
    "### Conditionals in List Comprehensions\n",
    "\n",
    "That is not all a list comprehension can do.  What if we want the squares of all the numbers from 1 to 10, but _only_ if they are even.  We can do this with a for loop:"
   ]
  },
  {
   "cell_type": "code",
   "execution_count": 7,
   "metadata": {},
   "outputs": [
    {
     "name": "stdout",
     "output_type": "stream",
     "text": [
      "[4, 16, 36, 64, 100]\n"
     ]
    }
   ],
   "source": [
    "squares = []\n",
    "for i in range(1,11):\n",
    "    if i % 2 == 0:\n",
    "        squares.append(i*i)\n",
    "print(squares)"
   ]
  },
  {
   "cell_type": "markdown",
   "metadata": {},
   "source": [
    "We could also combine a `map` and a `filter`:"
   ]
  },
  {
   "cell_type": "code",
   "execution_count": 9,
   "metadata": {},
   "outputs": [
    {
     "name": "stdout",
     "output_type": "stream",
     "text": [
      "[4, 16, 36, 64, 100]\n"
     ]
    }
   ],
   "source": [
    "squares = list(filter(lambda x2: x2%2 == 0, map(lambda x: x * x, range(1, 11))))\n",
    "print(squares)"
   ]
  },
  {
   "cell_type": "markdown",
   "metadata": {},
   "source": [
    "Wow... that's pretty ugly.  List comprehensions allow us to clean up this syntax significantly:"
   ]
  },
  {
   "cell_type": "code",
   "execution_count": 10,
   "metadata": {},
   "outputs": [
    {
     "name": "stdout",
     "output_type": "stream",
     "text": [
      "[4, 16, 36, 64, 100]\n"
     ]
    }
   ],
   "source": [
    "squares = [x * x for x in range(1, 11) if (x*x)%2 == 0]\n",
    "print(squares)"
   ]
  },
  {
   "cell_type": "markdown",
   "metadata": {},
   "source": [
    "Remember that `range` is not the only iterable we can us (it can be _any_ iterable), so we can do some interesting things involving other data types like the `set` or the `dict`.  Some of the example code will use list comprehensions to perform transformations and filters on data.  A good way to think of a List Comprehension is a syntactically non-nasty `map` and `filter`.  Keep in mind that our function can be the identity function, that is:\n",
    "\n",
    "```python\n",
    "[x for x in range(1, 11) if x%3 == 0] # gives a list of all integers between 1 and 10 that are evenly divisible by zero\n",
    "```\n",
    "\n",
    "Additionally list comprehensions are _not_ lazy, which means they will evaluate the entire list at once.  If you need/want to do a lazy operation use the `map` and `filter` operations instead of a list comprehension.\n",
    "\n",
    "#### Try It!\n",
    "Write a list comprehension that contains the string representation of the numbers from 1 to 20 if the string representation of the number contains a '1' or a '5'"
   ]
  },
  {
   "cell_type": "code",
   "execution_count": null,
   "metadata": {},
   "outputs": [],
   "source": []
  },
  {
   "cell_type": "markdown",
   "metadata": {},
   "source": [
    "### Set Comprehensions\n",
    "\n",
    "You can create a Python `set` using similar notation, with a `{}` instead of a `[]`.  Just as list comprehensions, set comprehensions are not lazy.\n"
   ]
  },
  {
   "cell_type": "code",
   "execution_count": 11,
   "metadata": {},
   "outputs": [
    {
     "name": "stdout",
     "output_type": "stream",
     "text": [
      "{0, 1, 2}\n"
     ]
    }
   ],
   "source": [
    "print({x%3 for x in range(1, 15)})"
   ]
  },
  {
   "cell_type": "markdown",
   "metadata": {},
   "source": [
    "\n",
    "### Dictionary Comprehensions\n",
    "\n",
    "We can also create a Python `dict` in the same way.  The general form of a dictionary comprehension is:\n",
    "\n",
    "```python\n",
    "{key: value for var in iterable}\n",
    "```\n",
    "\n",
    "Where both key and value can be functions of `var`:"
   ]
  },
  {
   "cell_type": "code",
   "execution_count": 14,
   "metadata": {},
   "outputs": [
    {
     "name": "stdout",
     "output_type": "stream",
     "text": [
      "{'1': False, '2': True, '3': False, '4': True, '5': False, '6': True, '7': False, '8': True, '9': False}\n"
     ]
    }
   ],
   "source": [
    "str_num_is_even = {str(i): i%2==0 for i in range(1,10)}\n",
    "print(str_num_is_even)"
   ]
  },
  {
   "cell_type": "markdown",
   "metadata": {},
   "source": [
    "## Decorators\n",
    "\n",
    "Decorators are a CoolThing(tm) you can do (similar to an annotation in Java) that allows you to do additional things with functions.  They are (sadly) outside the scope of this class, but are frequently very useful (if you want to perform memozation).  They allow you to pass the decorated function as an argument to another function to perform additional tasks when a function is called.  Metaprogramming is cool!  Some resources:\n",
    "\n",
    "* https://www.thecodeship.com/patterns/guide-to-python-function-decorators/\n",
    "* http://book.pythontips.com/en/latest/decorators.html"
   ]
  }
 ],
 "metadata": {
  "kernelspec": {
   "display_name": "Python 3",
   "language": "python",
   "name": "python3"
  },
  "language_info": {
   "codemirror_mode": {
    "name": "ipython",
    "version": 3
   },
   "file_extension": ".py",
   "mimetype": "text/x-python",
   "name": "python",
   "nbconvert_exporter": "python",
   "pygments_lexer": "ipython3",
   "version": "3.7.1"
  }
 },
 "nbformat": 4,
 "nbformat_minor": 2
}
