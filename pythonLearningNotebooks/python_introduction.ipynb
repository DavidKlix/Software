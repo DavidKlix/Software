{
 "cells": [
  {
   "cell_type": "markdown",
   "metadata": {},
   "source": [
    "# Python Basics"
   ]
  },
  {
   "cell_type": "markdown",
   "metadata": {},
   "source": [
    "## REPL your way through life\n",
    "\n",
    "If you have an expression, it will be evaluated and the result will be printed.  Unfortunately, this does not happen in the notebook unless it is the last thing that executed in the cell, so we always will print what we want to see."
   ]
  },
  {
   "cell_type": "code",
   "execution_count": 1,
   "metadata": {},
   "outputs": [
    {
     "data": {
      "text/plain": [
       "'She loves me, yeah, yeah, yeah'"
      ]
     },
     "execution_count": 1,
     "metadata": {},
     "output_type": "execute_result"
    }
   ],
   "source": [
    "beatle_juice = \"She loves me, yeah, yeah, yeah\"\n",
    "beatle_juice\n",
    "beatle_juice\n",
    "beatle_juice"
   ]
  },
  {
   "cell_type": "markdown",
   "metadata": {},
   "source": [
    "## Primitive Data"
   ]
  },
  {
   "cell_type": "markdown",
   "metadata": {},
   "source": [
    "### Integers\n",
    "\n",
    "Python has the ability to work with integers.  Unlike the integers you may be used to in a Language like Java, Python's integers are arbitray presicion.  \n",
    "_Good News:_ You do not have to worry about whether arithmetic operations will overflow!!\n",
    "_Bad News:_  You need to worry about the time that arithmetic operations take and whether you might run out of memory.\n",
    "\n"
   ]
  },
  {
   "cell_type": "code",
   "execution_count": 2,
   "metadata": {
    "scrolled": false
   },
   "outputs": [
    {
     "name": "stdout",
     "output_type": "stream",
     "text": [
      "9223372036854775807\n",
      "5858585\n",
      "85070591730234615847396907784232501249\n",
      "90342214581509937730438211624065320937479853332545811693261638705640157165686974662665389908151696562870417565010215481562653949215922580631222898194993425439192013033100520650761804893769281779966084132444996493057406521756597302543035132533878613145817387548515884692471533389746571025110888499168286760612611475398980132361976882262445935313037934218945093968951758452795896855461961698461964102525659211726937246939276876699601795782718270135373713829333072947051008659017815501336482988023478456269525080975807836963775838635770312803577605129927648192909671693923829848247945871821790776892542291941837910210599778412904811138808540631794943345362057522821308424751124772706949785329958224126125453794079735289021006187807608477079715897798454746169393888657669069079436778393382103123726604566784793920204731651557365785564511286115989104113715388910515537014652752614989978468747556722833924403873756295662512945972948019583625787821463667784660120302791821713286698011173804474264340066094577831319040353429390736073950533801281979172630107515584760098997449779747011939652550013679274753881291735518323238195233932284569553244778226770006007858366970983437802798899652258523524899783395023197475405887971974307855030846748872199438595793644545168738052883628293547404580736271826482971431381121727518119320145963076981721279514607364796689065022312729270805530470142605433552530593279632020636849693709993328403933144513246061604602776283338319729380077028315936445578693435579856304801415127163793786338087112501536579320931241110100785762456650538207749239367620444004440114725289301381398686043350408881255635035435058805811819225484456211788633284931429116162293249426718950179694651264914226200137483368355601420563284912319746216187863438713763534399024632799182186259786858364620021326548738214521041676550368080392190309457996818672396418621105472378961215784565532200991744312105648433585393245663117472009407348259392676046048918978494829630107235751376302998631463303905853787893118361191118274716694954847723968181082838692063697634758341390932912762121590601666708612701417691165500139606400748252715737306930252744679847850130132779798706787188533505402081959198697592488767795902977679513425619426057944249358592563925525827596321438547077275217585041277550593098763689123889078879286344496668359517654210871445532243809232478556273061339990572187544225680442160780046049824208463736226193601477309255029218732121454336411672399391781825201859334204377146514428331184535565195246397583488523541000171282047880761466285471657912235441641271731982629313930841781634694420049279850425427033676976600716196452182115928774740698559260740696626189655190606436182803338132964247727510192768799697773035645103319520915456285637145438519501739366857545327754560096613167200010774909912860750496673732139209723062449764496758678711854687416079455146410279198106744572616779301999407439796665244895874374472054708062510680230462792974330309976047118415439255802848829039698000678191978265614231069158415502054844704380389332015885013219241373084415794160922511020343342918340958744958746516947380916256790584939431770263188162152112030963007459493353527246107690057977578866305755476954160792152437524190866398483709711851983081313941716628038752638609720724703241369337111925523315270130155230603444669003333868781629134687516136456200590975527229792090854227865130233601282455984501391488884931067268482020972552729074575633839037345714732261863807175714363904774468250242357732254316170259887288572554701238060480351787970851922620637668441997145847366189021679546433912155268976094131554349182067238448587564053368373743628301485829273436499024951235764269370290774321934059335262532635649644705063623389507119484442004261701307499613570712434117525227418914894636569623484754726952133984916411957563662376618717945482891008111725553514493858956798331189403092312243952722608223029808167325620220664058577337789779610985476563782742396132037090684609848076789169816497111285237088999908357257731407750779593598644775667547512135609008119713193519678575434683390388713422193797597970972136728601247267272725041818473270166051080636018584778673165725946124128049760807223008720506119835971792213842722867329419276249523035468082091268319834550733972371969371477056880194316888764627668328221627514834807919606113465920346235401971162490630811915579351583449469911162092838057604796958129969128996927557249457487829319945895019979240807678492447952467840451979974896634297546267853991877892117720106106568243451124458848167686658979708880696635401842953953720496322360052841784160091996170805155680592551043265182828173604187327023178315023957247657501983042656155871134434411002561633803159574457676542708958323183577838991751599490151826240903901277914908077610403587159270745313076874739467013733796059382663541694085362734352087188259363537821908557130477786579868500902670838378671555020681830997674265496824406692241976332916025669599310817002968122193373593740711596573001856172551638856081695274331830801366416939637633694650184018188150689887497383048761350346622534721057837354857177012030863652654267108996652314807836637541924902508656619258062341356618302276538328819290527270474587887399208608925761610002232905303986496911068342296714073475247004001468325753745062014638247670337983570952110902027870717167911867763426639485854426832138112616441344576149599163375406416103498419018913431757263417132182790611533497723322071750900190927197240618633670905382224173263906603682657049065609921465518002463857909168373822177987795659690481271497915271836106569347659847792099597216112558282843858810884057022954939021394789745436036059319938906994844110093060996924293417551869033253054248555975730267870505061950116783069688932650705879285753817619310405004225504572261441138371227673494058194654080186843588938201848603942850017441799581873168987926471500209469281254932631143746461544866288279677594334373127217105275902848173365134124923337623405987099356266891486452389239643581459395019433598211019700081432267328030255639087683514042707221062751896947863169912577573588416605123223565555739820946318449721097128640929960918598233900846784560614182790041391909803494769898513266951743223463275840418587375051965709714510062977620671006554975544300739023281723153691334371580734953409445272162030119483425707644631723949855465385979395151815170132787232278011244436303721777036954829824950048342555068310367678567231023705870905225329728893641490272970115731978246051582270203535475024437597434526826405478437396861132612881668451541267087817034736340626065012777384420361690927866760381445476384171790235075571986976409519944089784095986280173289477707745613455745988942348242577583829690692700852038928482822256753150165104564717295420692353231694764357923804082334600608141157666946489246416876305473210917771377659586256852023662756970862182031548801220185679590216830529962162311590940721580634223352930678408598680067713064719365284933464749253210398895926813058897768989651379380047706600409587322387493190988196670585396605356858581028160932752021020905539572898467146544945596684299445974486804462945211544584523019663955665347246606009697085469824433906687795469116458051455926397771818263276119916452969984050365231787911661412559586849508726952101295681844265134672645366222066757764146243572502070708206257842450305004253781191724993575379057464121852078181386281746899723822952813852451998949103173509257675504080973076433062984873811830170589000185612776562710099939476064665260461018470662165656001439371049085058398900468814662598656000001\n"
     ]
    }
   ],
   "source": [
    "# The largest value that can be represented using a long in Java (64 bits)\n",
    "an_integer = 9223372036854775807\n",
    "print(an_integer)\n",
    "taylors_number = 5858585\n",
    "print(taylors_number)\n",
    "# Something bigger (about 38 digits)\n",
    "an_integer = an_integer * an_integer\n",
    "an_integer *= an_integer\n",
    "print(an_integer)\n",
    "\n",
    "# Use exponentiation to get an even larger value (abount 7600 digits)\n",
    "an_integer = an_integer**200\n",
    "print(an_integer)"
   ]
  },
  {
   "cell_type": "markdown",
   "metadata": {},
   "source": [
    "### Floating point and Division\n",
    "Most python platforms will map floating point to IEEE 754 double precision.  The main thing to watch out for is that there are two division operators.\n",
    "\n",
    "*The operator / does a floating point division\n",
    "*The operator // does an integer division and discards any remainder\n",
    "\n",
    "The rest of the operations +, -, * , %, ** are pretty standard\n"
   ]
  },
  {
   "cell_type": "code",
   "execution_count": 4,
   "metadata": {},
   "outputs": [
    {
     "name": "stdout",
     "output_type": "stream",
     "text": [
      "3.3333333333333335\n",
      "3\n",
      "1.5705\n",
      "1.0\n",
      "27\n",
      "1.7722866585290316\n"
     ]
    }
   ],
   "source": [
    "a = 10\n",
    "b = 3\n",
    "print(a/b)\n",
    "print(a//b)\n",
    "\n",
    "c = 3.141\n",
    "d = 2.0\n",
    "print(c/d)\n",
    "print(c//d)\n",
    "\n",
    "# Compute b cubed\n",
    "print(b**3)\n",
    "\n",
    "# Take the square root of a number\n",
    "print(c**(1/2))\n"
   ]
  },
  {
   "cell_type": "markdown",
   "metadata": {},
   "source": [
    "### Strings\n",
    "\n",
    "Strings in python can be delimited by single or double quotes.  Python does not have a seperate character type... It is just a string of length one.\n",
    "\n",
    "If you have a value, you can turn it into a string by using the str() method\n",
    "\n",
    " "
   ]
  },
  {
   "cell_type": "code",
   "execution_count": 30,
   "metadata": {},
   "outputs": [
    {
     "name": "stdout",
     "output_type": "stream",
     "text": [
      "1234567\n",
      "666\n",
      "1234567666\n"
     ]
    }
   ],
   "source": [
    "#Take an integer literal and turn it into a string\n",
    "not_a_number = str(1234567)\n",
    "print(not_a_number) \n",
    "\n",
    "#Take a string literal and turn it into a string\n",
    "#This is kind of a waste since we already had it as a string.\n",
    "also_not_a_number = str(\"666\")\n",
    "print(also_not_a_number)\n",
    "\n",
    "#Use + to concatenate the two strings\n",
    "print(not_a_number + also_not_a_number)"
   ]
  },
  {
   "cell_type": "markdown",
   "metadata": {},
   "source": [
    "### String operations\n",
    "This is just the briefest of introductions to string processing.  Eventually, we will look at how to interact with a string as sequence, but for now we will just talk about concatenation, search, and split.\n",
    "\n",
    "* Use the plus operator to concatenat two strings together\n",
    "* Use the split operator to break up the string into a list (More about lists later!)\n",
    "* Use the find operator to determine if one string is a substring of another string.  It returns the index of the first location or -1 if not there."
   ]
  },
  {
   "cell_type": "code",
   "execution_count": 1,
   "metadata": {},
   "outputs": [
    {
     "name": "stdout",
     "output_type": "stream",
     "text": [
      "A string that we can work with, Stanley.Hello George\n",
      "['A', 'string', 'that', 'we', 'can', 'work', 'with,', 'Stanley.']\n",
      "18\n",
      "-1\n"
     ]
    }
   ],
   "source": [
    "# Use single or double quotes\n",
    "string1 = \"A string that we can work with, Stanley.\"\n",
    "string2 = 'Hello George'\n",
    "\n",
    "# Concatenate the strings, note that we don't get a space!\n",
    "print(string1 + string2)\n",
    "\n",
    "# Split the string into a list of space delimited strings\n",
    "print(string1.split())\n",
    "\n",
    "# Let me know if an is a substring\n",
    "print(string1.find(\"an\"))\n",
    "print(string2.find(\"an\"))"
   ]
  },
  {
   "cell_type": "markdown",
   "metadata": {},
   "source": [
    "## Variables\n",
    "Variables in python are easy to create, you just assign them a value and they appear.  Types... Whatever the data is.  Python is not strongly typed.  This will cause loss of hair later.  Enjoy.\n",
    "\n",
    "print() is the way to get some output.  We can give print as many arguments as we want and they will each be evaluated and printed with a space in between.\n",
    "\n",
    "### Naming Conventions\n",
    "Use\n",
    "* lower_case with underscores for variable and function names\n",
    "* CamelCase for ClassNames\n",
    "* leading _ for private var/fn\n",
    "* all uppercase for constants, but its not enforced"
   ]
  },
  {
   "cell_type": "code",
   "execution_count": 23,
   "metadata": {},
   "outputs": [
    {
     "name": "stdout",
     "output_type": "stream",
     "text": [
      "1\n",
      "this is a string 2.0\n",
      "1 this is a string 2.0 5.0\n"
     ]
    }
   ],
   "source": [
    "a_is_an_integer = 10\n",
    "b = \"this is a string\"\n",
    "c = 'this is also a string'\n",
    "\n",
    "# c is no longer a string\n",
    "c = 2.0\n",
    "\n",
    "print(a)\n",
    "print(b, c)\n",
    "print(a, b, c, a + 2*c)\n"
   ]
  },
  {
   "cell_type": "markdown",
   "metadata": {},
   "source": [
    "## Selection\n",
    "The if statement is your friend. You will use it often. Unlike languages in the C tradition, we don't use braces to mark code blocks, Python uses a colon and indentation.  It is hard and fast.  If your indentation is wrong, your code is wrong. There is no fancy button that fixes your indentation, sorry.\n",
    "\n",
    "Python does not have a case construct. There is a really cool way to emulate a case statement using dictionaries that we will show you later.  For now, you can use the else if construct.  \n",
    "\n",
    "if\n",
    "elif\n",
    "elif\n",
    "else\n",
    "\n",
    "\n"
   ]
  },
  {
   "cell_type": "code",
   "execution_count": 24,
   "metadata": {
    "scrolled": true
   },
   "outputs": [
    {
     "name": "stdout",
     "output_type": "stream",
     "text": [
      "Not part of the if block\n",
      "a is not greater than 5\n",
      "c has the value 18.0\n",
      "digit is odd and positive\n"
     ]
    }
   ],
   "source": [
    "# A basic if statement. Notice the colon and the indentation\n",
    "if a > 10 :\n",
    "    print(\"a is greater than 10\")\n",
    "    a = a - 10\n",
    "print(\"Not part of the if block\")\n",
    "\n",
    "# If-Else... the else needs a color too\n",
    "if a > 5 :\n",
    "    print(\"a is greater than 5\")\n",
    "    c += 3\n",
    "else :\n",
    "    print(\"a is not greater than 5\")\n",
    "    c += 6\n",
    "c += 10\n",
    "print(\"c has the value\", c)\n",
    "\n",
    "# And the Elif with nested ifs\n",
    "\n",
    "digit = 5\n",
    "if digit == 0 :\n",
    "    print(\"digit is zero\")\n",
    "elif digit > 0 :\n",
    "    if digit % 2 == 0 :\n",
    "        print(\"digit is even and positive\")\n",
    "    else : \n",
    "        print(\"digit is odd and positive\")       \n",
    "else :\n",
    "    if digit % 2 == 0 :\n",
    "        print(\"digit is even and negative\")\n",
    "    else : \n",
    "        print(\"digit is odd and negative\")\n",
    "\n",
    "\n"
   ]
  },
  {
   "cell_type": "markdown",
   "metadata": {},
   "source": [
    "## Loops\n",
    "The standard ways to do a loop in python involve iterating over some structure like a range or a list.  Here are some typical loop controls:\n",
    "```python\n",
    "    for i in range(10)\n",
    "    for i in range(6, 10)\n",
    "    for i in some_iterable_structure```\n",
    "_Note:_ The loop variable is a local copy, you can change it, but the underlying value in the structure you are iterating over will be unchanged.\n",
    "\n",
    "_Range(a,b)_ gives back values from a up to b (exclusive) that can be iterated over.  If you leave out a, it will default to 0.\n",
    "    \n",
    "A while loop is pretty much what you would expect.  You need a condition and a block of code \n",
    "while boolean_condition :\n",
    "    loop body\n",
    "    \n",
    "\n",
    "   \n"
   ]
  },
  {
   "cell_type": "code",
   "execution_count": 5,
   "metadata": {
    "scrolled": false
   },
   "outputs": [
    {
     "name": "stdout",
     "output_type": "stream",
     "text": [
      "0\n",
      "1\n",
      "2\n",
      "3\n",
      "4\n",
      "5\n",
      "6\n",
      "7\n",
      "8\n",
      "9\n",
      "-------------------\n",
      "7\n",
      "8\n",
      "9\n"
     ]
    }
   ],
   "source": [
    "#Python for loops!\n",
    "\n",
    "# Range gives values 0 up to 10 (exclusive)\n",
    "for i in range(10) :\n",
    "    print(i)\n",
    "\n",
    "print(\"-------------------\")\n",
    "# Not that we recommend changing the variable you used to \n",
    "# set up the loop, but Python won't see it as the range is already\n",
    "# fixed.\n",
    "n = 10\n",
    "# This prints the values 7, 8, 9\n",
    "for i in range(7,n) :\n",
    "    n -= 1\n",
    "    print(i)"
   ]
  },
  {
   "cell_type": "code",
   "execution_count": 1,
   "metadata": {},
   "outputs": [
    {
     "name": "stdout",
     "output_type": "stream",
     "text": [
      "1.9999999850988388\n"
     ]
    }
   ],
   "source": [
    "# While example\n",
    "# 1 + 1/2 + 1/4 + 1/8 + ...\n",
    "sum = 0\n",
    "term = 1\n",
    "while term > 0.00000001 :\n",
    "    sum += term\n",
    "    term = term / 2\n",
    "print(sum)"
   ]
  },
  {
   "cell_type": "markdown",
   "metadata": {},
   "source": [
    "## I/O with Standard Input and Output\n",
    "\n",
    "We have already seen print(). If you are printing multiple items, you can specify the seperator to use if the default of space is not what you want.\n",
    "\n",
    "The input function will grab the next line from standard input. It always returns a string.  Once you have a string, you can convert it into an appropriate primitive.\n",
    "\n",
    "input()\n",
    "    Grabs the next line from standard input and always returns a string.\n",
    "    \n",
    "Can prompt for input as well.\n",
    "_We "
   ]
  },
  {
   "cell_type": "code",
   "execution_count": 38,
   "metadata": {},
   "outputs": [
    {
     "name": "stdout",
     "output_type": "stream",
     "text": [
      "Please type a number followed by enter: 12312\n",
      "12312\n",
      "12322.0\n",
      "Please type in a sentenceFor a good time call Ricky\n",
      "['For', 'a', 'good', 'time', 'call', 'Ricky']\n"
     ]
    }
   ],
   "source": [
    "#IO in Python\n",
    "# The argument to input is a prompt\n",
    "line = input(\"Please type a number followed by enter: \")\n",
    "print(line)\n",
    "\n",
    "# Convert what was typed into a float\n",
    "data = float(line)\n",
    "data += 10\n",
    "print(data)\n",
    "\n",
    "line = input('Please type in a sentence')\n",
    "data = line.split()\n",
    "print(data)"
   ]
  }
 ],
 "metadata": {
  "kernelspec": {
   "display_name": "Python 3",
   "language": "python",
   "name": "python3"
  },
  "language_info": {
   "codemirror_mode": {
    "name": "ipython",
    "version": 3
   },
   "file_extension": ".py",
   "mimetype": "text/x-python",
   "name": "python",
   "nbconvert_exporter": "python",
   "pygments_lexer": "ipython3",
   "version": "3.7.1"
  }
 },
 "nbformat": 4,
 "nbformat_minor": 2
}
