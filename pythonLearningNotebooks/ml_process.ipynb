{
 "cells": [
  {
   "cell_type": "markdown",
   "metadata": {},
   "source": [
    "# Main Steps in the Machine Learning Process"
   ]
  },
  {
   "cell_type": "markdown",
   "metadata": {},
   "source": [
    "## Ask a question!"
   ]
  },
  {
   "cell_type": "markdown",
   "metadata": {},
   "source": [
    "## Find data set/s related to that question\n",
    "There are a lot of open data sets out there that you can access. Some places that you can find data sets are listed below, but there are plenty of data sets out there.\n",
    "\n",
    "1. Kaggle - Lots of interesting data sets  https://www.kaggle.com/datasets\n",
    "1. UC Irvine Machine Learning Repo - A venerable source of data.  Some what dated now.  http://mlr.cs.umass.edu/ml/\n",
    "1. US government.  The open data sets from the US government. https://catalog.data.gov/dataset (_Many organinizations/governments make data sets available. I have given three, but check around for others._) \n",
    "1. UK data sets https://www.ukdataservice.ac.uk\n",
    "1. IMF data setshttps://www.imf.org/en/Data\n",
    "1. Amazon AWS data sets - Data sets that can be aquired through AWS services https://registry.opendata.aws\n",
    "1. Wikipedia list of data sets - https://en.wikipedia.org/wiki/List_of_datasets_for_machine_learning_research\n",
    "1. 538 - Politics and sports opinions https://fivethirtyeight.com\n",
    "1. Awesome data - a collection of data sets on github https://github.com/awesomedata/awesome-public-datasets\n",
    "\n",
    "One final option is to scrape data from existing web sites and build your own data set."
   ]
  },
  {
   "cell_type": "markdown",
   "metadata": {},
   "source": [
    "## Acquire the data\n",
    "You may want to create a work space and then download the data set into the workspace so you have a local copy to work with.  If you are working with a very large data set, you may choose to only download a part of the set."
   ]
  },
  {
   "cell_type": "markdown",
   "metadata": {},
   "source": [
    "## Look at the forrest of the data\n",
    "At this point we want to look at the overall picture of the data.  We are not yet trying to do a detailed analysis, but there are some basic questions we want to answer about our data set.\n",
    "\n",
    "1. In each record of data what are the features?\n",
    "2. What are the range of values (min, median/average, max)\n",
    "3. Do I have values that are not numeric?\n",
    "4. Do I have records that are missing features?\n"
   ]
  },
  {
   "cell_type": "markdown",
   "metadata": {},
   "source": [
    "## Split the data in a training and a test set\n",
    "It is critical to split up your data set early on and sequester a test set.  You will train your model on the training set and then only after you have finished analyzing the data will you do a final evaluation of your model using the test set."
   ]
  },
  {
   "cell_type": "markdown",
   "metadata": {},
   "source": [
    "## Visualize the data\n"
   ]
  },
  {
   "cell_type": "markdown",
   "metadata": {},
   "source": [
    "## Prepare the data"
   ]
  },
  {
   "cell_type": "markdown",
   "metadata": {},
   "source": [
    "## Select and train a Model/s"
   ]
  },
  {
   "cell_type": "markdown",
   "metadata": {},
   "source": [
    "## Refine the Model"
   ]
  },
  {
   "cell_type": "markdown",
   "metadata": {},
   "source": [
    "## Test the Model and present Final results"
   ]
  }
 ],
 "metadata": {
  "kernelspec": {
   "display_name": "Python 3 (Spyder)",
   "language": "python3",
   "name": "python3"
  },
  "language_info": {
   "codemirror_mode": {
    "name": "ipython",
    "version": 3
   },
   "file_extension": ".py",
   "mimetype": "text/x-python",
   "name": "python",
   "nbconvert_exporter": "python",
   "pygments_lexer": "ipython3",
   "version": "3.7.0"
  }
 },
 "nbformat": 4,
 "nbformat_minor": 2
}
