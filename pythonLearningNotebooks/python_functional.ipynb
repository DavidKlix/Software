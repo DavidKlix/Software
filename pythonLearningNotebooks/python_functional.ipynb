{
 "cells": [
  {
   "cell_type": "markdown",
   "metadata": {},
   "source": [
    "# Python - Functional Programming"
   ]
  },
  {
   "cell_type": "markdown",
   "metadata": {},
   "source": [
    "## Functions as \"things\"\n",
    "\n",
    "Python treats functions as objects (much the same as any data or instance of a class).  Because a function can be treated the same way as data, we can do some very interesting and powerful things:"
   ]
  },
  {
   "cell_type": "code",
   "execution_count": 1,
   "metadata": {},
   "outputs": [
    {
     "name": "stdout",
     "output_type": "stream",
     "text": [
      "[1, 4, 9, 16, 25]\n",
      "[1, -8, 27, -64, 125]\n"
     ]
    }
   ],
   "source": [
    "def square(x):\n",
    "    return x * x\n",
    "\n",
    "def cube(x):\n",
    "    return x * x * x\n",
    "\n",
    "my_list = [1, -2, 3, -4, 5]\n",
    "\n",
    "# this function will call fn on every value in the_list, and return a list with\n",
    "# the results of all of those\n",
    "def do_a_thing_to_a_list(fn, the_list):\n",
    "    result = []\n",
    "    for value in the_list:\n",
    "        # call the function on the value and append it to the result\n",
    "        result.append(fn(value))\n",
    "    return result\n",
    "\n",
    "print(do_a_thing_to_a_list(square, my_list))\n",
    "print(do_a_thing_to_a_list(cube, my_list))\n"
   ]
  },
  {
   "cell_type": "markdown",
   "metadata": {},
   "source": [
    "The ability to treat python functions as objects allows us to treat Python as a _functional_ programming language in some ways.  Many things that we can do in python are made much easier by either:\n",
    "\n",
    "* applying a function to an entire data set: Keeps the resulting data set the same size\n",
    "* filter a data set based on a predicate (function that returns true or false): Potentially shrinks the resulting data set\n",
    "* reducing a data set: Aggregates your data into a single thing\n",
    "\n",
    "In the following sections we will see how we can use basic functional programming concepts to make Python code that is cleaner and frequently faster than the procedural approach."
   ]
  },
  {
   "cell_type": "markdown",
   "metadata": {},
   "source": [
    "## Map\n",
    "\n",
    "The operation we performed earlier is also known as a _map_ operation; that is we create a result by applying some function to an iterable data set.\n",
    "\n",
    "Python provides the `map(fn, iterable)` function that performs similarly to our `do_a_thing_to_a_list` function above.  It walks through the iterable and runs the function `fn` (which may only take one parameter) on each value in the iterable. Observe:"
   ]
  },
  {
   "cell_type": "code",
   "execution_count": 1,
   "metadata": {},
   "outputs": [
    {
     "name": "stdout",
     "output_type": "stream",
     "text": [
      "<map object at 0x000001EC461C0E80>\n"
     ]
    }
   ],
   "source": [
    "def square(x):\n",
    "    return x * x\n",
    "\n",
    "def cube(x):\n",
    "    return x * x * x\n",
    "\n",
    "my_list = [1, -2, 3, -4, 5]\n",
    "\n",
    "print(map(square, my_list))"
   ]
  },
  {
   "cell_type": "markdown",
   "metadata": {},
   "source": [
    "What gives? it doesn't print the same thing as above!  Notice that `map` returns a map object, not a list.  This is because it is _lazy_ (like me, frequently).  It will not evaluate `fn` for any value until you ask it to:"
   ]
  },
  {
   "cell_type": "code",
   "execution_count": 2,
   "metadata": {},
   "outputs": [
    {
     "name": "stdout",
     "output_type": "stream",
     "text": [
      "[1, 4, 9, 16, 25]\n",
      "1\n",
      "-8\n",
      "27\n",
      "-64\n",
      "125\n"
     ]
    }
   ],
   "source": [
    "def square(x):\n",
    "    return x * x\n",
    "\n",
    "def cube(x):\n",
    "    return x * x * x\n",
    "\n",
    "my_list = [1, -2, 3, -4, 5]\n",
    "\n",
    "print(list(map(square, my_list))) # list will walk through the iteratable map object and create a new list\n",
    "\n",
    "for val in map(cube, my_list):\n",
    "    print(val) # each of these is evaluated when we walk through the loop, NOT when we call map"
   ]
  },
  {
   "cell_type": "markdown",
   "metadata": {},
   "source": [
    "So why is this a CoolThing(tm)?  Well, a lot of times we want to apply a transformation to all of our data.  We **could** go through our list using a for loop, calling the function on each value, and appending that to a new list.  BUT... Python is SLOW!  A good rule of thumb is that the runtime of your code is directly proportional to the number of lines of Python.  When you use a `map` operation, your program is running compiled C code, which is significantly faster.  Consider the two alternatives for doing the same thing:"
   ]
  },
  {
   "cell_type": "code",
   "execution_count": 3,
   "metadata": {},
   "outputs": [
    {
     "name": "stdout",
     "output_type": "stream",
     "text": [
      "[1, 4, 9, 16, 25]\n",
      "[1, 4, 9, 16, 25]\n"
     ]
    }
   ],
   "source": [
    "def square(x):\n",
    "    return x * x\n",
    "\n",
    "my_list = [1, -2, 3, -4, 5]\n",
    "\n",
    "#Method 1:\n",
    "squares1 = []\n",
    "for val in my_list:\n",
    "    squares1.append(square(val))\n",
    "\n",
    "#Method 2:\n",
    "squares2 = list(map(square, my_list))\n",
    "\n",
    "print(squares1)\n",
    "print(squares2)\n",
    "\n"
   ]
  },
  {
   "cell_type": "markdown",
   "metadata": {},
   "source": [
    "Which approach seems cleaner?  If you do not find mapping functions to a list of data intuitive, you can always choose Method 1 if you wish; however, you can only _truly_ be a Python (and coding) ninja if you embrace the functional shenanigans. (This is not true, but it was fun to type).  Mapping has additional cool features (such as exposing inherant parallelism) that we will not need to take advantage of in this course.  There may be some places in this course where functional type programming in Python will be required, and it will come up frequently in my notes and code.\n",
    "\n",
    "### Practice\n",
    "\n",
    "Import the `sqrt` function from the `math` module, and use `map` to find the square root of all the values in a list of positive integers.  Print the resulting list"
   ]
  },
  {
   "cell_type": "code",
   "execution_count": null,
   "metadata": {},
   "outputs": [],
   "source": []
  },
  {
   "cell_type": "markdown",
   "metadata": {},
   "source": [
    "## Anonymous Functions\n",
    "\n",
    "Sometimes creating a function that takes a single parameter can be... overkill.  How would you write code using `map` to add 5 to every element in a list?"
   ]
  },
  {
   "cell_type": "code",
   "execution_count": 4,
   "metadata": {},
   "outputs": [
    {
     "name": "stdout",
     "output_type": "stream",
     "text": [
      "[6, 3, 8, 1, 10]\n"
     ]
    }
   ],
   "source": [
    "def add_five(x):\n",
    "    return x + 5\n",
    "\n",
    "my_list = [1, -2, 3, -4, 5]\n",
    "\n",
    "print(list(map(add_five, my_list)))"
   ]
  },
  {
   "cell_type": "markdown",
   "metadata": {},
   "source": [
    "Python gives us the ability to create _anonymous functions_ on the fly that perform simple operations and return values using _lambda expressions_ (the fancy name for a anonymous function!).  Consider the same code using a Python Lambda:"
   ]
  },
  {
   "cell_type": "code",
   "execution_count": 6,
   "metadata": {},
   "outputs": [
    {
     "name": "stdout",
     "output_type": "stream",
     "text": [
      "[6, 3, 8, 1, 10]\n"
     ]
    }
   ],
   "source": [
    "my_list = [1, -2, 3, -4, 5]\n",
    "\n",
    "print(list(map(lambda x: x+5, my_list)))"
   ]
  },
  {
   "cell_type": "markdown",
   "metadata": {},
   "source": [
    "A python lambda expression takes the form:\n",
    "\n",
    "```python\n",
    "lambda param_list:resulting value\n",
    "```\n",
    "\n",
    "Some examples of Python lambda expressions:\n",
    "\n",
    "```python\n",
    "lambda x,y: x*y # multiplies x * y and returns the result\n",
    "lambda a: a*a # squares a and returns the result\n",
    "```\n",
    "\n",
    "Lambda expressions can be bound to variables (though this would be silly to do manually):"
   ]
  },
  {
   "cell_type": "code",
   "execution_count": 7,
   "metadata": {},
   "outputs": [
    {
     "name": "stdout",
     "output_type": "stream",
     "text": [
      "6\n"
     ]
    }
   ],
   "source": [
    "fn = lambda x: x+2\n",
    "print(fn(4))"
   ]
  },
  {
   "cell_type": "markdown",
   "metadata": {},
   "source": [
    "A more common usage of this is to pass functions to other functions (such as map) to reduce the amount of code you write.  Essentially, you are creating small, trivial functions without the overhead of creating a new `def`'d function.\n",
    "\n",
    "Keep in mind that lambdas should be _simple_; don't try to write multi-line lambdas or ones that accomplish multiple complicated things.  Keep It Simple... Silly!\n",
    "\n",
    "### Practice\n",
    "\n",
    "Similar to above, import the `sqrt` function from the `math` module.  Use a `lambda` and `map` to determine the square root of double each value in a list of positive integers."
   ]
  },
  {
   "cell_type": "code",
   "execution_count": null,
   "metadata": {},
   "outputs": [],
   "source": []
  },
  {
   "cell_type": "markdown",
   "metadata": {},
   "source": [
    "## Filter\n",
    "\n",
    "Just as we can apply a function to an entire iterable, we can get all data from some iterable that meets some criteria.  Consider a situation where you are given a list of numbers, and want to know all even values in that list.  You could create a new list, iterate through the original data, and append even values to your new list.  Or, you could use the magical power of functional programming to make it easier.\n",
    "\n",
    "`filter(pred, iterable)` will give back all values in the iterable such that `pred` (which can take one argument) returns something that evaluates to `True`.  We can solve the above problem with a simple:"
   ]
  },
  {
   "cell_type": "code",
   "execution_count": 10,
   "metadata": {},
   "outputs": [
    {
     "name": "stdout",
     "output_type": "stream",
     "text": [
      "[2, 4, 6, 8, 2]\n",
      "42\n"
     ]
    }
   ],
   "source": [
    "my_list = [1, 2, 3, 4, 6, 7, 8, 9, 13, 5, 1, 2, 3]\n",
    "print(list(filter(lambda x: x%2 == 0, my_list)))\n",
    "# We can see the sum of all odd numbers:\n",
    "print(sum(filter(lambda x: x%2 == 1, my_list)))"
   ]
  },
  {
   "cell_type": "markdown",
   "metadata": {},
   "source": [
    "Notice that `filter` (and `map`) do NOT modify the original list; they create a copy of the data (lazily) instead of mutating existing data.\n",
    "\n",
    "### Practice\n",
    "\n",
    "Create a list of integers (both positive and negative.  Write code using `lambda` and `filter` that will print two pieces of information:\n",
    "\n",
    "* The sum of all odd positive numbers in your list\n",
    "* The sum of all even negative numbers in your list"
   ]
  },
  {
   "cell_type": "code",
   "execution_count": null,
   "metadata": {},
   "outputs": [],
   "source": []
  },
  {
   "cell_type": "markdown",
   "metadata": {},
   "source": [
    "## Reduce\n",
    "\n",
    "Reducing data is a common thing you see in Big Data operations (it is half of the common **map-reduce** paradigm; the other half is `map`).  We will not get into a lot of detail on `reduce` in this class, but if you are interested (or think it may make your code easier to read), you can check out the documentation here: https://docs.python.org/3/library/functools.html#functools.reduce\n",
    "\n",
    "## Returning Functions\n",
    "\n",
    "Python gives you the ability to build and return functions from other functions.  While this is a CoolThing(tm) we will not need this in this course; if you are interested consult the internet for more information."
   ]
  }
 ],
 "metadata": {
  "kernelspec": {
   "display_name": "Python 3",
   "language": "python",
   "name": "python3"
  },
  "language_info": {
   "codemirror_mode": {
    "name": "ipython",
    "version": 3
   },
   "file_extension": ".py",
   "mimetype": "text/x-python",
   "name": "python",
   "nbconvert_exporter": "python",
   "pygments_lexer": "ipython3",
   "version": "3.7.1"
  }
 },
 "nbformat": 4,
 "nbformat_minor": 2
}
