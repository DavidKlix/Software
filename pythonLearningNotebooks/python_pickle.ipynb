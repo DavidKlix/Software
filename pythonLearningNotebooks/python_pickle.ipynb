{
 "cells": [
  {
   "cell_type": "markdown",
   "metadata": {},
   "source": [
    "# Python Pickle - Data Serialization"
   ]
  },
  {
   "cell_type": "markdown",
   "metadata": {},
   "source": [
    "Many times you are working on your program (perhaps something with long runtimes or multiple steps), and you want to stop in the middle for some reason.  Maybe you haven't completed a further part, or need to step away from the computer.  Often it can be helpful to preserve your program state for later. The `pickle` module can help you do this.  Pickling your data dumps a raw Python data structure to a binary(ish) format that can be easy to read in at a later date.  \n",
    "\n",
    "## Dump/Load (File)\n",
    "\n",
    "The `pickle` module closely follows the API of the python `json` module.  To store the representation of a Python object in a file, you use the `dump` method.  This file can be read with the `load` function at a later time to get exactly the python representation back"
   ]
  },
  {
   "cell_type": "code",
   "execution_count": 6,
   "metadata": {},
   "outputs": [
    {
     "name": "stdout",
     "output_type": "stream",
     "text": [
      "Writing pickle to /tmp/tmp0olp9atb\n",
      "Reading pickle from /tmp/tmp0olp9atb\n",
      "{'hi': [1, 2, 'asdf'], 3: 17}\n"
     ]
    }
   ],
   "source": [
    "import pickle # alternately, could write \n",
    "# from pickle import load, dump\n",
    "# The alternate way may conflict with the json load and dump\n",
    "import os\n",
    "import tempfile\n",
    "\n",
    "my_data = {'hi': [1, 2, 'asdf'], 3: 17}\n",
    "\n",
    "# get a temporary file so we don't clobber any data accidentally\n",
    "# You could use your own filename if you wanted so you know where it \n",
    "# is going.\n",
    "file, filename = tempfile.mkstemp()\n",
    "\n",
    "# open the temporary file for writing bytes to\n",
    "with open(filename, 'wb') as f:\n",
    "    print('Writing pickle to', filename)\n",
    "    pickle.dump(my_data, f)\n",
    "    \n",
    "# open the temporary file for reading bytes from\n",
    "with open(filename, 'rb') as f:\n",
    "    print('Reading pickle from', filename)\n",
    "    my_data2 = pickle.load(f)\n",
    "\n",
    "# cleanup the temporary files\n",
    "os.close(file)\n",
    "os.remove(filename)\n",
    "# look! our data!\n",
    "print(my_data2)\n",
    "    "
   ]
  },
  {
   "cell_type": "markdown",
   "metadata": {},
   "source": [
    "This operation is useful if you want to cache the results of an expensive operation or network API call so you can continue to work on the data at a later time without waiting on an expensive calculation or network call.  This is also an excellent idea if you are going to be demoing a project when you want to ensure you have data from an external source saved (instead of praying to the demo deity of your choice that the network will work perfectly).\n",
    "\n",
    "## Dumps/Loads (String)\n",
    "\n",
    "The `pickle` method also supports dumping to and loading from strings.  This can be incredibly useful if you want to share python state between running python processes (on the same computer or across a network) instead of using a different serialization protocol like Google's Protocol Buffers (which are EXCELLENT in the author's opinion if you need to have microservices implemented in different languages talking to each other)."
   ]
  },
  {
   "cell_type": "code",
   "execution_count": 7,
   "metadata": {},
   "outputs": [
    {
     "name": "stdout",
     "output_type": "stream",
     "text": [
      "Preserved pickle: b'\\x80\\x03}q\\x00(X\\x02\\x00\\x00\\x00hiq\\x01]q\\x02(K\\x01K\\x02X\\x04\\x00\\x00\\x00asdfq\\x03eK\\x03K\\x11u.'\n",
      "Unpickled data: {'hi': [1, 2, 'asdf'], 3: 17}\n"
     ]
    }
   ],
   "source": [
    "import pickle # alternately, could write \n",
    "# from pickle import loads, dumps\n",
    "# The alternate way may conflict with the json loads and dumps\n",
    "\n",
    "my_data = {'hi': [1, 2, 'asdf'], 3: 17}\\\n",
    "# dump the data to a pickle string\n",
    "pickle_str = pickle.dumps(my_data)\n",
    "print(\"Preserved pickle:\", pickle_str)\n",
    "\n",
    "my_data2 = pickle.loads(pickle_str)\n",
    "print(\"Unpickled data:\", my_data2)"
   ]
  },
  {
   "cell_type": "code",
   "execution_count": null,
   "metadata": {},
   "outputs": [],
   "source": []
  }
 ],
 "metadata": {
  "kernelspec": {
   "display_name": "Python 3 (Spyder)",
   "language": "python3",
   "name": "python3"
  },
  "language_info": {
   "codemirror_mode": {
    "name": "ipython",
    "version": 3
   },
   "file_extension": ".py",
   "mimetype": "text/x-python",
   "name": "python",
   "nbconvert_exporter": "python",
   "pygments_lexer": "ipython3",
   "version": "3.6.5"
  }
 },
 "nbformat": 4,
 "nbformat_minor": 2
}
