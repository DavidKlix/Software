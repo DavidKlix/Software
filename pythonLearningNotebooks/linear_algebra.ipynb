{
 "cells": [
  {
   "cell_type": "markdown",
   "metadata": {},
   "source": [
    "# Linear Algebra\n",
    "\n",
    "You need to know a little bit of linear algebra because a number of the machine learning techniques are expressed more compactly if you use the appropriate notation.\n",
    "\n",
    "We shall see some applications later, but remember that it is all about having a shorthand that allows us to express complex formulas.\n",
    "\n",
    "## numpy\n",
    "Just as we have a mathematical shorthand, python has a module called that implements these operations.  (While there are other things in numpy, the focus of this notebook will be on the operations with vectors and matrices.)  \n",
    "\n",
    "The numpy library is written C, so it is fast, fast, fast. If you are going to be using arrays for a computation task in python this is what you should use. We will explore numpy a little bit and implement a few things ourselves, but mostly we will be using other packages that use numpy for their underlying operations.\n"
   ]
  },
  {
   "cell_type": "markdown",
   "metadata": {},
   "source": [
    "# Vectors\n",
    "For example, if you have a list of values, we can use a vector $v=[0, 1, 3, 4]$.\n",
    "\n",
    "In general, we would write $x = [x_1, x_2, ..., x_n]$ and can refer to a particular value with the subscript notation $x_i$ is the i'th value in the vector.\n",
    "\n",
    "## Vector addition\n",
    "If we have two vectors, we can combine them by adding their components in a pairwise fashion and write it using the + symbol.\n",
    "\n",
    "$x + y = [x_1+y_1, x_2+y_2, ..., x_n+y_n]$\n",
    "\n",
    "Lets look at some code that does this using python lists.\n"
   ]
  },
  {
   "cell_type": "code",
   "execution_count": 2,
   "metadata": {},
   "outputs": [
    {
     "name": "stdout",
     "output_type": "stream",
     "text": [
      "[1, 2, 3, 4, 4, 6, 10, 15]\n",
      "[5, 8, 13, 19]\n"
     ]
    }
   ],
   "source": [
    "x = [1, 2, 3, 4]\n",
    "y = [4, 6, 10, 15]\n",
    "\n",
    "# adding two lists is append, clearly not what we want\n",
    "print(x+y)\n",
    "\n",
    "result = []\n",
    "for index in range(len(x)) :\n",
    "    result.append(x[index] + y[index])\n",
    "print(result)"
   ]
  },
  {
   "cell_type": "markdown",
   "metadata": {},
   "source": [
    "  \n",
    "## How can I use numpy to add vectors?\n",
    "You need to import the package. In the olden days, the package name was np, so we are going to use that name when we work with numpy\n"
   ]
  },
  {
   "cell_type": "code",
   "execution_count": 3,
   "metadata": {},
   "outputs": [],
   "source": [
    "import numpy as np"
   ]
  },
  {
   "cell_type": "markdown",
   "metadata": {},
   "source": [
    "### Numpy Vectors\n",
    "Numpy has its own data type for vectors and arrays called `numpy.array`.  While it may look like a list, it is completely different.\n",
    "\n",
    "To create a numpy vector we need to give it a list that contains the values in our vector."
   ]
  },
  {
   "cell_type": "code",
   "execution_count": 4,
   "metadata": {},
   "outputs": [
    {
     "name": "stdout",
     "output_type": "stream",
     "text": [
      "[1 2 3]\n",
      "[ 1.5  2.7  8.9 24. ]\n"
     ]
    }
   ],
   "source": [
    "#This vector has 3 values in it\n",
    "vector1 = np.array([1, 2, 3])\n",
    "print(vector1)\n",
    "\n",
    "#This vector has 4 values in it\n",
    "vector2 = np.array([1.5, 2.7, 8.9, 24])\n",
    "print(vector2)"
   ]
  },
  {
   "cell_type": "markdown",
   "metadata": {},
   "source": [
    "### Numpy Vector addition\n",
    "No looping is needed, we just do an add on the two vectors and the result appears!"
   ]
  },
  {
   "cell_type": "code",
   "execution_count": 5,
   "metadata": {},
   "outputs": [
    {
     "name": "stdout",
     "output_type": "stream",
     "text": [
      "[ 5  8 13 19]\n"
     ]
    }
   ],
   "source": [
    "x = np.array([1, 2, 3, 4])\n",
    "y = np.array([4, 6, 10, 15])\n",
    "\n",
    "# adding two vectors gives us a new vector\n",
    "print(x+y)"
   ]
  },
  {
   "cell_type": "markdown",
   "metadata": {},
   "source": [
    "## Vector product\n",
    "If we have two vectors, we can combine them by doing a multiplication.  There are three ways that we can do a multiplication depending on the type of the result. \n",
    "\n",
    "1. Pairwise multiplication of corresponding values results in a vector. Surprisingly, this is not usually what we mean.\n",
    "2. The inner product multiplies the corresponding values and then adds each of the values resulting in a scalar (single) value. This is also called a dot product and is usually what is meant by multiplication.\n",
    "3. The outer product results in a matrix.\n",
    "\n",
    "The dot product is:\n",
    "\n",
    "$x \\bullet y = x_1  y_1 + x_2 y_2 + ...+ x_ny_n$\n",
    "\n",
    "Lets look at some code that does this using python lists."
   ]
  },
  {
   "cell_type": "code",
   "execution_count": 6,
   "metadata": {},
   "outputs": [
    {
     "name": "stdout",
     "output_type": "stream",
     "text": [
      "106\n"
     ]
    }
   ],
   "source": [
    "x = [1, 2, 3, 4]\n",
    "y = [4, 6, 10, 15]\n",
    "\n",
    "# The result is a single value\n",
    "result = 0\n",
    "for index in range(len(x)) :\n",
    "    result += (x[index] * y[index])\n",
    "print(result)"
   ]
  },
  {
   "cell_type": "markdown",
   "metadata": {},
   "source": [
    "and here is the numpy equivalent"
   ]
  },
  {
   "cell_type": "code",
   "execution_count": 12,
   "metadata": {},
   "outputs": [
    {
     "name": "stdout",
     "output_type": "stream",
     "text": [
      "106\n",
      "[ 4 12 30 60]\n"
     ]
    }
   ],
   "source": [
    "x = np.array([1, 2, 3, 4])\n",
    "y = np.array([4, 6, 10, 15])\n",
    "\n",
    "# Here is the dot product\n",
    "print(x.dot(y))\n",
    "\n",
    "# Quick aside, If you wanted to do the pairwise operation, it uses *\n",
    "print(x*y)"
   ]
  },
  {
   "cell_type": "markdown",
   "metadata": {},
   "source": [
    "## How long is my vector?\n",
    "One way of thinking about a vector is that it is a directed line segment.  So for example, the vector (1, -2, 3) is goes 1 unit in the positive x direction, 2 units in the negative y direction, and 3 units in the positive z direction.  To find the length, we generalize the Pythagoean theorem where $x^2 + y^2 = s^2$\n",
    "\n",
    "\n",
    "![Pythagorean Theorem](imgs/pythagorean.gif)\n",
    "\n",
    "\n",
    "\n",
    "In general the norm (length) of a vector $x$ is given by the formula $ |x|^2 = x_1  x_1 + x_2 x_2 + ...+ x_nx_n$.\n",
    "\n",
    "Conveniently, the right hand side is the dot product of $x$ with itself.\n",
    "\n",
    "Lets look at the numpy version."
   ]
  },
  {
   "cell_type": "code",
   "execution_count": 7,
   "metadata": {},
   "outputs": [
    {
     "name": "stdout",
     "output_type": "stream",
     "text": [
      "3.7416573867739413\n",
      "3.7416573867739413\n"
     ]
    }
   ],
   "source": [
    "x = np.array([1, -2, 3])\n",
    "\n",
    "from math import sqrt\n",
    "# Here is the dot product\n",
    "print(sqrt(x.dot(x)))\n",
    "\n",
    "# Or we can compute the norm directly using the predefined method\n",
    "print(np.linalg.norm(x))"
   ]
  },
  {
   "cell_type": "markdown",
   "metadata": {},
   "source": [
    "# Matrices\n",
    "A 2D matrix is a rectangular arrangement of values.  There are a number of ways that matrices can be used, but the basics involve combining two matrices or a matrix with a vector.\n",
    "\n",
    "Here is an example of a 4 by 3 matrix $\\mathbf{M} = \\left[\\begin{array}{ccc}1&2&3\\\\\n",
    "4&5&6\\\\\n",
    "7&8&9\\\\\n",
    "10&11&12\n",
    "\\end{array}\n",
    "\\right]$\n",
    "\n",
    "We can refer to individual values in the matrix via subscripts like so:\n",
    "\n",
    "$\\mathbf{A} = \\left[\\begin{array}{cccc}\n",
    "a_{1,1}&a_{1,2}&...&a_{1,n}\\\\\n",
    "a_{2,1}&a_{2,2}&...&a_{2,n}\\\\\n",
    "\\vdots&\\vdots&\\ddots&\\vdots\\\\\n",
    "a_{m,1}&a_{m,2}&...&a_{m,n}\n",
    "\\end{array}\n",
    "\\right]$\n",
    "\n",
    "where A is m rows by n columns. \n",
    "\n",
    "We will not talk about them, but our matrices can have arbitrary numbers of subscripts.  A 3D array would have 3 subscripts for example.\n"
   ]
  },
  {
   "cell_type": "markdown",
   "metadata": {},
   "source": [
    "# Combining a Matrix and a Vector\n",
    "One standard operation is to multiply a matrix with a vector resulting in a new vector. This kind of operation is often linked with transformation of data.  Matrices used in this fashion are called _Transformation Matrices_.  We will define how to do the operation here and look at the corresponding python code and then show that it can be done faster with numpy.\n",
    "\n",
    "$\\mathbf{A}x = \\left[\\begin{array}{cccc}\n",
    "a_{1,1}&a_{1,2}&...&a_{1,n}\\\\\n",
    "a_{2,1}&a_{2,2}&...&a_{2,n}\\\\\n",
    "\\vdots&\\vdots&\\ddots&\\vdots\\\\\n",
    "a_{m,1}&a_{m,2}&...&a_{m,n}\n",
    "\\end{array} \n",
    "\\right]\n",
    "\\left[\\begin{array}{c}\n",
    "x_1\\\\\n",
    "x_2\\\\\n",
    "x_3\\\\\n",
    "\\vdots\\\\\n",
    "x_n\n",
    "\\end{array} \n",
    "\\right]\n",
    "= \n",
    "\\left[\\begin{array}{c}\n",
    "a_{1,1}x_1 + a_{1,2}x_2 + ...+a_{1,n}x_n\\\\\n",
    "a_{2,1}x_1 + a_{2,2}x_2 + ...+a_{2,n}x_n\\\\\n",
    "\\vdots\\\\\n",
    "a_{m,1}x_1 + a_{m,2}x_2 + ...+a_{m,n}x_n\\\\\n",
    "\\end{array} \n",
    "\\right]\n",
    "$\n",
    "\n",
    "Notice that the right hand side is the dot product of the vector $x$ with a row in the array $\\mathbf{A}$.\n",
    "\n",
    "Lets create do this using lists of lists and loops in basic python."
   ]
  },
  {
   "cell_type": "code",
   "execution_count": 8,
   "metadata": {},
   "outputs": [
    {
     "name": "stdout",
     "output_type": "stream",
     "text": [
      "[25, 58, 91, 124]\n"
     ]
    }
   ],
   "source": [
    "# the matrix A is a 4 by 3 two dimensional array\n",
    "A = [[1, 2, 3], \n",
    "     [4, 5, 6], \n",
    "     [7, 8, 9],\n",
    "     [10, 11, 12]]\n",
    "x = [2, 4, 5]\n",
    "\n",
    "#Lets compute the product and put the result in y\n",
    "y = []\n",
    "for row in range(len(A)):\n",
    "    sum = 0\n",
    "    for col in range(len(A[row])):\n",
    "        sum += A[row][col] * x[col]\n",
    "    y.append(sum)\n",
    "print(y)\n",
    "        "
   ]
  },
  {
   "cell_type": "markdown",
   "metadata": {},
   "source": [
    "The equivalent code using numpy is as follows.  You may have noticed that we use np.array to create both vectors and matrices.  This is because we can treat a vector as an array that only has one dimension.  "
   ]
  },
  {
   "cell_type": "code",
   "execution_count": 9,
   "metadata": {},
   "outputs": [
    {
     "name": "stdout",
     "output_type": "stream",
     "text": [
      "[ 25  58  91 124]\n"
     ]
    }
   ],
   "source": [
    "import numpy as np\n",
    "\n",
    "# the matrix A is a 4 by 3 two dimensional array\n",
    "A = np.array(\n",
    "    [[1, 2, 3], \n",
    "     [4, 5, 6], \n",
    "     [7, 8, 9],\n",
    "     [10, 11, 12]] )\n",
    "x = np.array( \n",
    "    [2, 4, 5] )\n",
    "\n",
    "#Lets compute the product and put the result in y\n",
    "y = A.dot(x)\n",
    "\n",
    "print(y)\n",
    "\n",
    "# If you use the * operator,\n",
    "# you will get pairwise computations and the result\n",
    "# will be a matrix."
   ]
  },
  {
   "cell_type": "markdown",
   "metadata": {},
   "source": [
    "## Identity transformation\n",
    "The matrix $\\mathbf{A}$ is an identity matrix if $\\mathbf{A}x = x$. (I.E. When you apply $\\mathbf{A}$ to x, you get back x.)\n",
    "For this to work, $\\mathbf{A}$ must be a square matrix.\n",
    "\n",
    "Here is the 4 by 4 identity matrix.\n",
    "$\\mathbf{A} = \\left[\\begin{array}{cccc}\n",
    "1&0&0&0\\\\\n",
    "0&1&0&0\\\\\n",
    "0&0&1&0\\\\\n",
    "0&0&0&1\\\\\n",
    "\\end{array} \n",
    "\\right]\n",
    "$\n",
    "\n",
    "Lets see that it works in python using numpy!"
   ]
  },
  {
   "cell_type": "code",
   "execution_count": 29,
   "metadata": {},
   "outputs": [
    {
     "name": "stdout",
     "output_type": "stream",
     "text": [
      "[ 2  4  5 -3]\n"
     ]
    }
   ],
   "source": [
    "import numpy as np\n",
    "\n",
    "# the matrix A is a 4 by 4 identity matrix\n",
    "A = np.array(\n",
    "    [[1, 0, 0, 0], \n",
    "     [0, 1, 0, 0], \n",
    "     [0, 0, 1, 0],\n",
    "     [0, 0, 0, 1]] )\n",
    "x = np.array( \n",
    "    [2, 4, 5, -3] )\n",
    "\n",
    "#Lets compute the product and put the result in y\n",
    "y = A.dot(x)\n",
    "\n",
    "print(y)"
   ]
  },
  {
   "cell_type": "markdown",
   "metadata": {},
   "source": [
    "# Combining a Matrix and a Matrix\n",
    "The final thing that we will do is to multiply two matrices together to get another matrix. Suppose that $\\mathbf{A}$ is an m by n matrix and $\\mathbf{B}$ is an n by p matrix.  The result of multiplying $\\mathbf{A}$ with $\\mathbf{B}$ is a matrix $\\mathbf{C}$ of size n by p.\n",
    "\n",
    "standard operation is to multiply a matrix with a vector resulting in a new vector. This kind of operation is often linked with transformation of data.  Matrices used in this fashion are called _Transformation Matrices_.  We will define how to do the operation here and look at the corresponding python code and then show that it can be done faster with numpy.\n",
    "\n",
    "$\\mathbf{A}\\mathbf{A} = \n",
    "\\left[\\begin{array}{cccc}\n",
    "a_{1,1}&a_{1,2}&...&a_{1,n}\\\\\n",
    "a_{2,1}&a_{2,2}&...&a_{2,n}\\\\\n",
    "\\vdots&\\vdots&\\ddots&\\vdots\\\\\n",
    "a_{m,1}&a_{m,2}&...&a_{m,n}\n",
    "\\end{array} \n",
    "\\right]\n",
    "\\left[\\begin{array}{ccccc}\n",
    "b_{1,1}&b_{1,2}&...&b_{1,p}\\\\\n",
    "b_{2,1}&b_{2,2}&...&b_{2,p}\\\\\n",
    "b_{3,1}&b_{3,2}&...&b_{3,p}\\\\\n",
    "\\vdots&\\vdots&\\ddots&\\vdots\\\\\n",
    "b_{n,1}&b_{n,2}&...&b_{n,p}\n",
    "\\end{array} \n",
    "\\right]\n",
    "= \n",
    "\\left[\\begin{array}{ccccc}\n",
    "c_{1,1}&c_{1,2}&...&c_{1,p}\\\\\n",
    "c_{2,1}&c_{2,2}&...&c_{2,p}\\\\\n",
    "c_{3,1}&c_{3,2}&...&c_{3,p}\\\\\n",
    "\\vdots&\\vdots&\\ddots&\\vdots\\\\\n",
    "c_{m,1}&c_{m,2}&...&c_{m,p}\n",
    "\\end{array} \n",
    "\\right]\n",
    "$\n",
    "\n",
    "where\n",
    "$c_{i,k} = a_{i,0}b_{0,k} + a_{i,1}b_{1,k} + ... + a_{i,n}b_{n,k}$ is just a dot product of row i from $\\mathbf{A}$ with a column k from $\\mathbf{B}$.  For this to work, the second dimension of $\\mathbf{A}$ must match the first dimension of $\\mathbf{B}$.\n",
    "\n",
    "\n",
    "To code this in plain python we will need a triply nested loop.\n"
   ]
  },
  {
   "cell_type": "code",
   "execution_count": 33,
   "metadata": {},
   "outputs": [
    {
     "name": "stdout",
     "output_type": "stream",
     "text": [
      "[[30, 36, 42, 37, 11], [66, 81, 96, 97, 26], [102, 126, 150, 157, 41], [138, 171, 204, 217, 56]]\n"
     ]
    }
   ],
   "source": [
    "# the matrix A is a 4 by 3 two dimensional array\n",
    "A = [[1, 2, 3], \n",
    "     [4, 5, 6], \n",
    "     [7, 8, 9],\n",
    "     [10, 11, 12]]\n",
    "\n",
    "# the matrix b is a 3 by 5 two dimensional array\n",
    "B = [[1, 2, 3, 7, 1], \n",
    "     [4, 5, 6, 9, 2], \n",
    "     [7, 8, 9, 4, 2]]\n",
    "\n",
    "# Eventually, the result will be a 4 by 5 array\n",
    "C = []\n",
    "\n",
    "\n",
    "#Lets compute the product and put the result in y\n",
    "for i in range(len(A)):\n",
    "    # find row i\n",
    "    row = []\n",
    "    for k in range(len(B[0])):\n",
    "        # Compute the value in location i,k\n",
    "        sum = 0\n",
    "        for j in range(len(A[i])):\n",
    "            sum += A[i][j] * B[j][k]\n",
    "        row.append(sum)\n",
    "    # add the row now that we have it\n",
    "    C.append(row)\n",
    "print(C)"
   ]
  },
  {
   "cell_type": "markdown",
   "metadata": {},
   "source": [
    "and the numpy equivalent\n"
   ]
  },
  {
   "cell_type": "code",
   "execution_count": 35,
   "metadata": {},
   "outputs": [
    {
     "name": "stdout",
     "output_type": "stream",
     "text": [
      "[[ 30  36  42  37  11]\n",
      " [ 66  81  96  97  26]\n",
      " [102 126 150 157  41]\n",
      " [138 171 204 217  56]]\n"
     ]
    }
   ],
   "source": [
    "\n",
    "import numpy as np\n",
    "\n",
    "# the matrix A is a 4 by 3 two dimensional array\n",
    "A = np.array(\n",
    "    [[1, 2, 3], \n",
    "     [4, 5, 6], \n",
    "     [7, 8, 9],\n",
    "     [10, 11, 12]])\n",
    "\n",
    "# the matrix b is a 3 by 5 two dimensional array\n",
    "B = np.array(\n",
    "    [[1, 2, 3, 7, 1], \n",
    "     [4, 5, 6, 9, 2], \n",
    "     [7, 8, 9, 4, 2]])\n",
    "    \n",
    "\n",
    "# Eventually, the result will be a 4 by 5 array\n",
    "\n",
    "C = A.dot(B)\n",
    "\n",
    "print(C)"
   ]
  },
  {
   "cell_type": "markdown",
   "metadata": {},
   "source": [
    "### Take me to your leader (the official numpy docs)\n",
    "http://www.numpy.org"
   ]
  }
 ],
 "metadata": {
  "kernelspec": {
   "display_name": "Python 3",
   "language": "python",
   "name": "python3"
  },
  "language_info": {
   "codemirror_mode": {
    "name": "ipython",
    "version": 3
   },
   "file_extension": ".py",
   "mimetype": "text/x-python",
   "name": "python",
   "nbconvert_exporter": "python",
   "pygments_lexer": "ipython3",
   "version": "3.7.1"
  }
 },
 "nbformat": 4,
 "nbformat_minor": 2
}
