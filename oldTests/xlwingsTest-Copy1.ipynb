{
 "cells": [
  {
   "cell_type": "markdown",
   "metadata": {},
   "source": [
    "this opens an excel document and puts 10 in a1"
   ]
  },
  {
   "cell_type": "code",
   "execution_count": 1,
   "metadata": {},
   "outputs": [],
   "source": [
    "import xlwings as xw"
   ]
  },
  {
   "cell_type": "code",
   "execution_count": 2,
   "metadata": {},
   "outputs": [],
   "source": [
    "wb = xw.Book('firstTest.xlsm') # set workbook = to wb"
   ]
  },
  {
   "cell_type": "code",
   "execution_count": 3,
   "metadata": {},
   "outputs": [],
   "source": [
    "sht = wb.sheets['Sheet1']# refers to the first sheet in the xl file"
   ]
  },
  {
   "cell_type": "code",
   "execution_count": 4,
   "metadata": {},
   "outputs": [],
   "source": [
    "sht.range('A1').value = 10 # refers to the cell a1. puts 10 in it"
   ]
  },
  {
   "cell_type": "code",
   "execution_count": 5,
   "metadata": {},
   "outputs": [],
   "source": [
    "@xw.func\n",
    "def hello(name):\n",
    "    return \"hello {0}!!!\".format(name)"
   ]
  },
  {
   "cell_type": "code",
   "execution_count": 53,
   "metadata": {},
   "outputs": [
    {
     "name": "stdout",
     "output_type": "stream",
     "text": [
      "[\"['Ashok\", \"Atkuri',\", \"'Akshara\", \"Gurram',\", \"'Satya\", \"Appasani',\", \"'Elizabeth\", \"Billings',\", \"'Divyaharshini\", \"Bheemireddy',\", \"'Tyler\", \"Eggleston',\", \"'Gopi\", \"Amara',\", \"'Harish\", \"Bondalapati',\", \"'Karthik\", \"Vemula',\", \"'Sai\", \"Vancha',\", \"'Mathew\", \"Horner',\", \"'Niharika\", \"Gundala',\", \"'Patrick\", \"Blair',\", \"'Anik\", \"Gomes',\", \"'Pradeep\", \"Kolli',\", \"'Priyanka\", \"Khanal',\", \"'Rayaan\", \"Ahmed',\", \"'Razeena\", \"Nemarugommula',\", \"'Vishal\", \"Pannala',\", \"'Rakesh\", \"Nadakudhiti',\", \"'Andrew\", \"Hoskins',\", \"'Elizabeth\", \"Conard',\", \"'Sagar\", \"Ghimire',\", \"'Saikumar\", \"Nalivela',\", \"'Naga\", \"Vummidi',\", \"'Sambi\", \"Chanimella',\", \"'Sachin\", \"Setty',\", \"'Shruthi\", \"Patlolla',\", \"'Sierra\", \"King',\", \"'Sravya\", \"Kancharla',\", \"'Ujjawal\", \"Kumar',\", \"'Vipul\", \"Chandoor',\", \"'Matthew\", \"Wholey']\"]\n",
      "['Ashok\n",
      "Wholey']\n"
     ]
    }
   ],
   "source": [
    "namelist =[]\n",
    "rawNames = sht.range('B2:B34').value\n",
    "for var in rawNames:\n",
    "    namelist.append(var)\n",
    "stringlist = str(namelist)\n",
    "stringlist = stringlist.split()\n",
    "print (stringlist)\n",
    "count = 2\n",
    "temp = \"\"\n",
    "print(stringlist[0])\n",
    "for x in range(0,65):\n",
    "    if (count%2 == 0):\n",
    "        stringlist[x],stringlist[x+1] = stringlist[x+1],stringlist[x]\n",
    "fallenname = stringlist.pop()\n",
    "\n",
    "print(stringlist[64])\n",
    "\n",
    "fixednames  = stringlist[0:33]"
   ]
  },
  {
   "cell_type": "code",
   "execution_count": null,
   "metadata": {},
   "outputs": [],
   "source": []
  }
 ],
 "metadata": {
  "kernelspec": {
   "display_name": "Python 3",
   "language": "python",
   "name": "python3"
  },
  "language_info": {
   "codemirror_mode": {
    "name": "ipython",
    "version": 3
   },
   "file_extension": ".py",
   "mimetype": "text/x-python",
   "name": "python",
   "nbconvert_exporter": "python",
   "pygments_lexer": "ipython3",
   "version": "3.7.1"
  }
 },
 "nbformat": 4,
 "nbformat_minor": 2
}
